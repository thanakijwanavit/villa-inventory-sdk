{
 "cells": [
  {
   "cell_type": "markdown",
   "metadata": {},
   "source": [
    "# villaInventorySdk\n",
    "[docs](https://thanakijwanavit.github.io/villa-inventory-sdk/)\n",
    "> read and write inventory in real time"
   ]
  },
  {
   "cell_type": "markdown",
   "metadata": {},
   "source": [
    "full docs here https://thanakijwanavit.github.io/villa-inventory-sdk/"
   ]
  },
  {
   "cell_type": "markdown",
   "metadata": {},
   "source": [
    "## Install"
   ]
  },
  {
   "cell_type": "markdown",
   "metadata": {},
   "source": [
    "`pip install villaInventorySdk`"
   ]
  },
  {
   "cell_type": "markdown",
   "metadata": {},
   "source": [
    "## How to use"
   ]
  },
  {
   "cell_type": "markdown",
   "metadata": {},
   "source": [
    "Uploading a large amount of data"
   ]
  },
  {
   "cell_type": "code",
   "execution_count": null,
   "metadata": {},
   "outputs": [],
   "source": [
    "#hide\n",
    "# isAws = True\n",
    "# if isAws:\n",
    "#   USER = None\n",
    "#   PW = None\n",
    "# else:\n",
    "#   import pickle\n",
    "#   KEY = ''\n",
    "#   PW = ''\n",
    "#   keypath = '/Users/nic/.villa-product-master-inventory'\n",
    "#   if KEY and PW:\n",
    "#     with open (keypath, 'wb') as f:\n",
    "#       pickle.dump({\n",
    "#           'KEY': KEY,\n",
    "#           'PW': PW\n",
    "#       }, f)\n",
    "#   with open(keypath, 'rb') as f:\n",
    "#     creden = pickle.load(f)\n",
    "#   USER = creden['KEY']\n",
    "#   PW = creden['PW']"
   ]
  },
  {
   "cell_type": "markdown",
   "metadata": {},
   "source": [
    "## sample input"
   ]
  },
  {
   "cell_type": "code",
   "execution_count": null,
   "metadata": {},
   "outputs": [],
   "source": [
    "from villaInventorySdk.inventory import InventorySdk\n",
    "from random import randrange\n",
    "import boto3, time, json\n",
    "from dataclasses import dataclass\n",
    "from dataclasses_json import dataclass_json\n",
    "from datetime import datetime\n",
    "import pandas as pd\n",
    "from nicHelper.dictUtil import printDict"
   ]
  },
  {
   "cell_type": "code",
   "execution_count": null,
   "metadata": {},
   "outputs": [
    {
     "data": {
      "text/html": [
       "<div>\n",
       "<style scoped>\n",
       "    .dataframe tbody tr th:only-of-type {\n",
       "        vertical-align: middle;\n",
       "    }\n",
       "\n",
       "    .dataframe tbody tr th {\n",
       "        vertical-align: top;\n",
       "    }\n",
       "\n",
       "    .dataframe thead th {\n",
       "        text-align: right;\n",
       "    }\n",
       "</style>\n",
       "<table border=\"1\" class=\"dataframe\">\n",
       "  <thead>\n",
       "    <tr style=\"text-align: right;\">\n",
       "      <th></th>\n",
       "      <th>cprcode</th>\n",
       "      <th>brcode</th>\n",
       "      <th>ib_cf_qty</th>\n",
       "      <th>new_ib_vs_stock_cv</th>\n",
       "    </tr>\n",
       "  </thead>\n",
       "  <tbody>\n",
       "    <tr>\n",
       "      <th>0</th>\n",
       "      <td>0000009</td>\n",
       "      <td>1000</td>\n",
       "      <td>50</td>\n",
       "      <td>27</td>\n",
       "    </tr>\n",
       "    <tr>\n",
       "      <th>1</th>\n",
       "      <td>0000004</td>\n",
       "      <td>1000</td>\n",
       "      <td>35</td>\n",
       "      <td>33</td>\n",
       "    </tr>\n",
       "    <tr>\n",
       "      <th>2</th>\n",
       "      <td>0000003</td>\n",
       "      <td>1003</td>\n",
       "      <td>36</td>\n",
       "      <td>33</td>\n",
       "    </tr>\n",
       "  </tbody>\n",
       "</table>\n",
       "</div>"
      ],
      "text/plain": [
       "   cprcode brcode ib_cf_qty new_ib_vs_stock_cv\n",
       "0  0000009   1000        50                 27\n",
       "1  0000004   1000        35                 33\n",
       "2  0000003   1003        36                 33"
      ]
     },
     "execution_count": null,
     "metadata": {},
     "output_type": "execute_result"
    }
   ],
   "source": [
    "sampleInput =  [ \n",
    "  { 'cprcode': '0000009', 'brcode': '1000', 'ib_cf_qty': '50', 'new_ib_vs_stock_cv': '27' },\n",
    "  { 'cprcode': '0000004', 'brcode': '1000', 'ib_cf_qty': '35', 'new_ib_vs_stock_cv': '33' },\n",
    "  { 'cprcode': '0000003', 'brcode': '1003', 'ib_cf_qty': '36', 'new_ib_vs_stock_cv': '33' }\n",
    "    ]\n",
    "df = pd.DataFrame(sampleInput)\n",
    "df"
   ]
  },
  {
   "cell_type": "markdown",
   "metadata": {},
   "source": [
    "## Upload data"
   ]
  },
  {
   "cell_type": "code",
   "execution_count": null,
   "metadata": {},
   "outputs": [],
   "source": [
    "#hide\n",
    "inputBucketName= 'input-bucket-dev-manual'\n",
    "functionName= 'update-inventory-s3-dev-manual'\n",
    "invocationType = 'RequestResponse'\n",
    "branch = 'dev-manual'"
   ]
  },
  {
   "cell_type": "code",
   "execution_count": null,
   "metadata": {},
   "outputs": [],
   "source": [
    "#hide\n",
    "inputBucketName= 'input-bucket-test-inventory-6b3753e2f2'\n",
    "functionName= 'update-inventory-s3-test-inventory-6b3753e2f2'\n",
    "invocationType = 'RequestResponse'"
   ]
  },
  {
   "cell_type": "markdown",
   "metadata": {},
   "source": [
    "## init sdk"
   ]
  },
  {
   "cell_type": "code",
   "execution_count": null,
   "metadata": {},
   "outputs": [
    {
     "name": "stdout",
     "output_type": "stream",
     "text": [
      "CPU times: user 36.2 ms, sys: 4.05 ms, total: 40.2 ms\n",
      "Wall time: 39.8 ms\n"
     ]
    }
   ],
   "source": [
    "%%time\n",
    "USER=None\n",
    "PW = None\n",
    "sdk = InventorySdk(user=USER, pw=PW, branchName = branch)"
   ]
  },
  {
   "cell_type": "markdown",
   "metadata": {},
   "source": [
    "## Update inventory "
   ]
  },
  {
   "cell_type": "code",
   "execution_count": null,
   "metadata": {},
   "outputs": [
    {
     "name": "stdout",
     "output_type": "stream",
     "text": [
      "signed url is \n",
      "url : https://in\n",
      "fields\n",
      " key : test\n",
      " AWSAccessKeyId : ASIAVX4Z5T\n",
      " x-amz-security-token : IQoJb3JpZ2\n",
      " policy : eyJleHBpcm\n",
      " signature : JhA/noZmLG\n",
      "CPU times: user 58.8 ms, sys: 1.44 ms, total: 60.2 ms\n",
      "Wall time: 574 ms\n"
     ]
    },
    {
     "data": {
      "text/plain": [
       "{'body': '{\"cprcode\":{\"0\":\"0000009\",\"1\":\"0000004\",\"2\":\"0000003\"},\"brcode\":{\"0\":\"1000\",\"1\":\"1000\",\"2\":\"1003\"},\"ib_cf_qty\":{\"0\":\"50\",\"1\":\"35\",\"2\":\"36\"},\"new_ib_vs_stock_cv\":{\"0\":\"27\",\"1\":\"33\",\"2\":\"33\"}}',\n",
       " 'statusCode': 200,\n",
       " 'headers': {'Access-Control-Allow-Headers': '*',\n",
       "  'Access-Control-Allow-Origin': '*',\n",
       "  'Access-Control-Allow-Methods': '*'}}"
      ]
     },
     "execution_count": null,
     "metadata": {},
     "output_type": "execute_result"
    }
   ],
   "source": [
    "%%time\n",
    "key = 'test'\n",
    "r = sdk.uploadDf(df, key = key)\n",
    "if r.status_code >= 400: raise Exception(r.json())\n",
    "sdk.ingestData(key = key)"
   ]
  },
  {
   "cell_type": "markdown",
   "metadata": {},
   "source": [
    "#### test uploading full data "
   ]
  },
  {
   "cell_type": "code",
   "execution_count": null,
   "metadata": {},
   "outputs": [
    {
     "name": "stdout",
     "output_type": "stream",
     "text": [
      "signed url is \n",
      "url : https://in\n",
      "fields\n",
      " key : test\n",
      " AWSAccessKeyId : ASIAVX4Z5T\n",
      " x-amz-security-token : IQoJb3JpZ2\n",
      " policy : eyJleHBpcm\n",
      " signature : 7846JjbAR+\n"
     ]
    },
    {
     "data": {
      "text/plain": [
       "{'body': '{\"cprcode\":{\"0\":\"0000009\",\"1\":\"0000012\",\"2\":\"0000026\",\"3\":\"0000028\",\"4\":\"0000033\"},\"brcode\":{\"0\":\"1000\",\"1\":\"1000\",\"2\":\"1000\",\"3\":\"1000\",\"4\":\"1000\"},\"ib_cf_qty\":{\"0\":\"39\",\"1\":\"39\",\"2\":\"9\",\"3\":\"13\",\"4\":\"7\"},\"new_ib_vs_stock_cv\":{\"0\":\"39\",\"1\":\"39\",\"2\":\"9\",\"3\":\"13\",\"4\":\"7\"}}',\n",
       " 'statusCode': 200,\n",
       " 'headers': {'Access-Control-Allow-Headers': '*',\n",
       "  'Access-Control-Allow-Origin': '*',\n",
       "  'Access-Control-Allow-Methods': '*'}}"
      ]
     },
     "execution_count": null,
     "metadata": {},
     "output_type": "execute_result"
    }
   ],
   "source": [
    "#### test uploading real data \n",
    "df = pd.read_csv('sampleData/inventory.csv', index_col=0, dtype=str).reset_index(drop=True)\n",
    "r = sdk.uploadDf(df, key = key)\n",
    "if r.status_code >= 400: raise Exception(r.json())\n",
    "sdk.ingestData(key = key)"
   ]
  },
  {
   "cell_type": "markdown",
   "metadata": {},
   "source": [
    "## Query single product"
   ]
  },
  {
   "cell_type": "code",
   "execution_count": null,
   "metadata": {},
   "outputs": [
    {
     "name": "stdout",
     "output_type": "stream",
     "text": [
      "succesfully get url, returning pandas\n",
      "CPU times: user 33.8 ms, sys: 9.14 ms, total: 42.9 ms\n",
      "Wall time: 3 s\n"
     ]
    },
    {
     "data": {
      "text/html": [
       "<div>\n",
       "<style scoped>\n",
       "    .dataframe tbody tr th:only-of-type {\n",
       "        vertical-align: middle;\n",
       "    }\n",
       "\n",
       "    .dataframe tbody tr th {\n",
       "        vertical-align: top;\n",
       "    }\n",
       "\n",
       "    .dataframe thead th {\n",
       "        text-align: right;\n",
       "    }\n",
       "</style>\n",
       "<table border=\"1\" class=\"dataframe\">\n",
       "  <thead>\n",
       "    <tr style=\"text-align: right;\">\n",
       "      <th></th>\n",
       "      <th>cprcode</th>\n",
       "      <th>brcode</th>\n",
       "      <th>ib_cf_qty</th>\n",
       "      <th>new_ib_vs_stock_cv</th>\n",
       "    </tr>\n",
       "  </thead>\n",
       "  <tbody>\n",
       "    <tr>\n",
       "      <th>0</th>\n",
       "      <td>1234</td>\n",
       "      <td>test</td>\n",
       "      <td>123</td>\n",
       "      <td>123</td>\n",
       "    </tr>\n",
       "  </tbody>\n",
       "</table>\n",
       "</div>"
      ],
      "text/plain": [
       "  cprcode brcode ib_cf_qty new_ib_vs_stock_cv\n",
       "0    1234   test       123                123"
      ]
     },
     "execution_count": null,
     "metadata": {},
     "output_type": "execute_result"
    }
   ],
   "source": [
    "%%time\n",
    "sdk.querySingleProduct2(cprcode='1234')"
   ]
  },
  {
   "cell_type": "markdown",
   "metadata": {},
   "source": [
    "## Query Branch"
   ]
  },
  {
   "cell_type": "code",
   "execution_count": null,
   "metadata": {},
   "outputs": [
    {
     "name": "stdout",
     "output_type": "stream",
     "text": [
      "CPU times: user 15.3 ms, sys: 1.2 ms, total: 16.5 ms\n",
      "Wall time: 231 ms\n"
     ]
    },
    {
     "data": {
      "text/html": [
       "<div>\n",
       "<style scoped>\n",
       "    .dataframe tbody tr th:only-of-type {\n",
       "        vertical-align: middle;\n",
       "    }\n",
       "\n",
       "    .dataframe tbody tr th {\n",
       "        vertical-align: top;\n",
       "    }\n",
       "\n",
       "    .dataframe thead th {\n",
       "        text-align: right;\n",
       "    }\n",
       "</style>\n",
       "<table border=\"1\" class=\"dataframe\">\n",
       "  <thead>\n",
       "    <tr style=\"text-align: right;\">\n",
       "      <th></th>\n",
       "      <th>cprcode</th>\n",
       "      <th>brcode</th>\n",
       "      <th>ib_cf_qty</th>\n",
       "      <th>new_ib_vs_stock_cv</th>\n",
       "    </tr>\n",
       "  </thead>\n",
       "  <tbody>\n",
       "    <tr>\n",
       "      <th>0</th>\n",
       "      <td>9</td>\n",
       "      <td>1000</td>\n",
       "      <td>50</td>\n",
       "      <td>27</td>\n",
       "    </tr>\n",
       "    <tr>\n",
       "      <th>1</th>\n",
       "      <td>9</td>\n",
       "      <td>1000</td>\n",
       "      <td>50</td>\n",
       "      <td>27</td>\n",
       "    </tr>\n",
       "  </tbody>\n",
       "</table>\n",
       "</div>"
      ],
      "text/plain": [
       "   cprcode  brcode  ib_cf_qty  new_ib_vs_stock_cv\n",
       "0        9    1000         50                  27\n",
       "1        9    1000         50                  27"
      ]
     },
     "execution_count": null,
     "metadata": {},
     "output_type": "execute_result"
    }
   ],
   "source": [
    "%%time\n",
    "sdk.branchQuery(brcode='1000', cprcodes = [9])"
   ]
  },
  {
   "cell_type": "markdown",
   "metadata": {},
   "source": [
    "## Query All"
   ]
  },
  {
   "cell_type": "code",
   "execution_count": null,
   "metadata": {},
   "outputs": [
    {
     "name": "stdout",
     "output_type": "stream",
     "text": [
      "succesfully get url, returning pandas\n",
      "CPU times: user 21.4 ms, sys: 15.7 ms, total: 37.1 ms\n",
      "Wall time: 420 ms\n"
     ]
    },
    {
     "data": {
      "text/html": [
       "<div>\n",
       "<style scoped>\n",
       "    .dataframe tbody tr th:only-of-type {\n",
       "        vertical-align: middle;\n",
       "    }\n",
       "\n",
       "    .dataframe tbody tr th {\n",
       "        vertical-align: top;\n",
       "    }\n",
       "\n",
       "    .dataframe thead th {\n",
       "        text-align: right;\n",
       "    }\n",
       "</style>\n",
       "<table border=\"1\" class=\"dataframe\">\n",
       "  <thead>\n",
       "    <tr style=\"text-align: right;\">\n",
       "      <th></th>\n",
       "      <th>cprcode</th>\n",
       "      <th>brcode</th>\n",
       "      <th>ib_cf_qty</th>\n",
       "      <th>new_ib_vs_stock_cv</th>\n",
       "    </tr>\n",
       "  </thead>\n",
       "  <tbody>\n",
       "    <tr>\n",
       "      <th>0</th>\n",
       "      <td>1234</td>\n",
       "      <td>test</td>\n",
       "      <td>123</td>\n",
       "      <td>123</td>\n",
       "    </tr>\n",
       "    <tr>\n",
       "      <th>1</th>\n",
       "      <td>12345</td>\n",
       "      <td>test</td>\n",
       "      <td>345</td>\n",
       "      <td>345</td>\n",
       "    </tr>\n",
       "    <tr>\n",
       "      <th>2</th>\n",
       "      <td>4</td>\n",
       "      <td>1000</td>\n",
       "      <td>35</td>\n",
       "      <td>33</td>\n",
       "    </tr>\n",
       "    <tr>\n",
       "      <th>3</th>\n",
       "      <td>4</td>\n",
       "      <td>1000</td>\n",
       "      <td>35</td>\n",
       "      <td>33</td>\n",
       "    </tr>\n",
       "    <tr>\n",
       "      <th>4</th>\n",
       "      <td>9</td>\n",
       "      <td>1000</td>\n",
       "      <td>50</td>\n",
       "      <td>27</td>\n",
       "    </tr>\n",
       "    <tr>\n",
       "      <th>...</th>\n",
       "      <td>...</td>\n",
       "      <td>...</td>\n",
       "      <td>...</td>\n",
       "      <td>...</td>\n",
       "    </tr>\n",
       "    <tr>\n",
       "      <th>46978</th>\n",
       "      <td>244590</td>\n",
       "      <td>1000</td>\n",
       "      <td>0</td>\n",
       "      <td>0</td>\n",
       "    </tr>\n",
       "    <tr>\n",
       "      <th>46979</th>\n",
       "      <td>244591</td>\n",
       "      <td>1000</td>\n",
       "      <td>0</td>\n",
       "      <td>0</td>\n",
       "    </tr>\n",
       "    <tr>\n",
       "      <th>46980</th>\n",
       "      <td>244592</td>\n",
       "      <td>1000</td>\n",
       "      <td>0</td>\n",
       "      <td>0</td>\n",
       "    </tr>\n",
       "    <tr>\n",
       "      <th>46981</th>\n",
       "      <td>3</td>\n",
       "      <td>1003</td>\n",
       "      <td>36</td>\n",
       "      <td>33</td>\n",
       "    </tr>\n",
       "    <tr>\n",
       "      <th>46982</th>\n",
       "      <td>3</td>\n",
       "      <td>1003</td>\n",
       "      <td>36</td>\n",
       "      <td>33</td>\n",
       "    </tr>\n",
       "  </tbody>\n",
       "</table>\n",
       "<p>46983 rows × 4 columns</p>\n",
       "</div>"
      ],
      "text/plain": [
       "      cprcode brcode ib_cf_qty new_ib_vs_stock_cv\n",
       "0        1234   test       123                123\n",
       "1       12345   test       345                345\n",
       "2           4   1000        35                 33\n",
       "3           4   1000        35                 33\n",
       "4           9   1000        50                 27\n",
       "...       ...    ...       ...                ...\n",
       "46978  244590   1000         0                  0\n",
       "46979  244591   1000         0                  0\n",
       "46980  244592   1000         0                  0\n",
       "46981       3   1003        36                 33\n",
       "46982       3   1003        36                 33\n",
       "\n",
       "[46983 rows x 4 columns]"
      ]
     },
     "execution_count": null,
     "metadata": {},
     "output_type": "execute_result"
    }
   ],
   "source": [
    "%%time\n",
    "sdk.queryAll2()"
   ]
  },
  {
   "cell_type": "code",
   "execution_count": null,
   "metadata": {},
   "outputs": [],
   "source": []
  }
 ],
 "metadata": {
  "kernelspec": {
   "display_name": "python38",
   "language": "python",
   "name": "python38"
  }
 },
 "nbformat": 4,
 "nbformat_minor": 4
}
