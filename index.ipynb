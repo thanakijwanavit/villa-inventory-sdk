{
 "cells": [
  {
   "cell_type": "code",
   "execution_count": null,
   "metadata": {},
   "outputs": [],
   "source": [
    "#hide\n",
    "from your_lib.core import *"
   ]
  },
  {
   "cell_type": "markdown",
   "metadata": {},
   "source": [
    "# villaInventorySdk\n",
    "> read and write inventory in real time"
   ]
  },
  {
   "cell_type": "markdown",
   "metadata": {},
   "source": [
    "## Install"
   ]
  },
  {
   "cell_type": "markdown",
   "metadata": {},
   "source": [
    "`pip install villaInventorySdk`"
   ]
  },
  {
   "cell_type": "markdown",
   "metadata": {},
   "source": [
    "## How to use"
   ]
  },
  {
   "cell_type": "markdown",
   "metadata": {},
   "source": [
    "Uploading a large amount of data"
   ]
  },
  {
   "cell_type": "code",
   "execution_count": 12,
   "metadata": {},
   "outputs": [],
   "source": [
    "#hide\n",
    "import pickle\n",
    "KEY = ''\n",
    "PW = ''\n",
    "keypath = '/Users/nic/.villa-product-master-inventory'\n",
    "if KEY and PW:\n",
    "  with open (keypath, 'wb') as f:\n",
    "    pickle.dump({\n",
    "        'KEY': KEY,\n",
    "        'PW': PW\n",
    "    }, f)\n",
    "with open(keypath, 'rb') as f:\n",
    "  creden = pickle.load(f)\n",
    "USER = creden['KEY']\n",
    "PW = creden['PW']"
   ]
  },
  {
   "cell_type": "code",
   "execution_count": null,
   "metadata": {},
   "outputs": [],
   "source": []
  },
  {
   "cell_type": "code",
   "execution_count": 13,
   "metadata": {},
   "outputs": [],
   "source": [
    "input = [\n",
    "    {'ib_brcode': '1023',\n",
    "     'ib_cf_qty': '835',\n",
    "     'ib_prcode': '84621',\n",
    "     'new_ib_vs_stock_cv': '839'},\n",
    "    {'ib_brcode': '1022',\n",
    "     'ib_cf_qty': '24',\n",
    "     'ib_prcode': '12424',\n",
    "     'new_ib_vs_stock_cv': '21'}\n",
    "]"
   ]
  },
  {
   "cell_type": "markdown",
   "metadata": {},
   "source": [
    "## Upload data"
   ]
  },
  {
   "cell_type": "code",
   "execution_count": 14,
   "metadata": {},
   "outputs": [
    {
     "name": "stdout",
     "output_type": "stream",
     "text": [
      "uploading 2 items\n",
      "data was saved to s3\n",
      "data is saved to s3, invoking ingestion function\n",
      "input to lambda is {'inputBucketName': 'input-bucket-dev-manual', 'inputKeyName': 'input-data-name'}\n",
      "it took 1 s\n"
     ]
    }
   ],
   "source": [
    "from villaInventorySdk.inventory import InventorySdk\n",
    "from random import randrange\n",
    "import boto3\n",
    "from dataclasses import dataclass\n",
    "from dataclasses_json import dataclass_json\n",
    "from datetime import datetime\n",
    "t0 = datetime.now()\n",
    "print(f'uploading {len(input)} items')\n",
    "sdk = InventorySdk(user=USER, pw=PW)\n",
    "result = sdk.updateWithS3(\n",
    "    input,\n",
    "    inputBucketName= 'input-bucket-dev-manual', \n",
    "    functionName= 'update-inventory-s3-dev-manual',\n",
    "    invocationType = 'RequestResponse'\n",
    "  )\n",
    "dt = datetime.now()-t0\n",
    "print(f'it took {dt.seconds} s')"
   ]
  },
  {
   "cell_type": "code",
   "execution_count": null,
   "metadata": {},
   "outputs": [],
   "source": []
  },
  {
   "cell_type": "code",
   "execution_count": null,
   "metadata": {},
   "outputs": [],
   "source": []
  }
 ],
 "metadata": {
  "kernelspec": {
   "display_name": "Python 3",
   "language": "python",
   "name": "python3"
  },
  "language_info": {
   "codemirror_mode": {
    "name": "ipython",
    "version": 3
   },
   "file_extension": ".py",
   "mimetype": "text/x-python",
   "name": "python",
   "nbconvert_exporter": "python",
   "pygments_lexer": "ipython3",
   "version": "3.8.1"
  }
 },
 "nbformat": 4,
 "nbformat_minor": 2
}
