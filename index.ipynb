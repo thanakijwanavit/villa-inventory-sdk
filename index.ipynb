{
 "cells": [
  {
   "cell_type": "markdown",
   "metadata": {},
   "source": [
    "# villaInventorySdk\n",
    "[docs](https://thanakijwanavit.github.io/villa-inventory-sdk/)\n",
    "> read and write inventory in real time"
   ]
  },
  {
   "cell_type": "markdown",
   "metadata": {},
   "source": [
    "## Install"
   ]
  },
  {
   "cell_type": "markdown",
   "metadata": {},
   "source": [
    "`pip install villaInventorySdk`"
   ]
  },
  {
   "cell_type": "markdown",
   "metadata": {},
   "source": [
    "## How to use"
   ]
  },
  {
   "cell_type": "markdown",
   "metadata": {},
   "source": [
    "Uploading a large amount of data"
   ]
  },
  {
   "cell_type": "code",
   "execution_count": null,
   "metadata": {},
   "outputs": [],
   "source": [
    "#hide\n",
    "isAws = True\n",
    "if isAws:\n",
    "  USER = None\n",
    "  PW = None\n",
    "else:\n",
    "  import pickle\n",
    "  KEY = ''\n",
    "  PW = ''\n",
    "  keypath = '/Users/nic/.villa-product-master-inventory'\n",
    "  if KEY and PW:\n",
    "    with open (keypath, 'wb') as f:\n",
    "      pickle.dump({\n",
    "          'KEY': KEY,\n",
    "          'PW': PW\n",
    "      }, f)\n",
    "  with open(keypath, 'rb') as f:\n",
    "    creden = pickle.load(f)\n",
    "  USER = creden['KEY']\n",
    "  PW = creden['PW']"
   ]
  },
  {
   "cell_type": "markdown",
   "metadata": {},
   "source": [
    "## sample input"
   ]
  },
  {
   "cell_type": "code",
   "execution_count": null,
   "metadata": {},
   "outputs": [],
   "source": [
    "sampleInput = [ \n",
    "  {'ib_brcode': '1023', 'ib_cf_qty': '835', 'ib_prcode': '84621', 'new_ib_vs_stock_cv': '839'},\n",
    "  {'ib_brcode': '1022', 'ib_cf_qty': '24', 'ib_prcode': '12424', 'new_ib_vs_stock_cv': '21'}\n",
    "]"
   ]
  },
  {
   "cell_type": "markdown",
   "metadata": {},
   "source": [
    "## Upload data"
   ]
  },
  {
   "cell_type": "code",
   "execution_count": null,
   "metadata": {},
   "outputs": [],
   "source": [
    "#hide\n",
    "from villaInventorySdk.inventory import InventorySdk\n",
    "from random import randrange\n",
    "import boto3, time, json\n",
    "from dataclasses import dataclass\n",
    "from dataclasses_json import dataclass_json\n",
    "from datetime import datetime"
   ]
  },
  {
   "cell_type": "code",
   "execution_count": null,
   "metadata": {},
   "outputs": [],
   "source": [
    "#hide\n",
    "inputBucketName= 'input-bucket-dev-manual'\n",
    "functionName= 'update-inventory-s3-dev-manual'\n",
    "invocationType = 'RequestResponse'\n",
    "branch = 'dev-manual'"
   ]
  },
  {
   "cell_type": "code",
   "execution_count": null,
   "metadata": {},
   "outputs": [],
   "source": [
    "#hide\n",
    "inputBucketName= 'input-bucket-test-inventory-6b3753e2f2'\n",
    "functionName= 'update-inventory-s3-test-inventory-6b3753e2f2'\n",
    "invocationType = 'RequestResponse'"
   ]
  },
  {
   "cell_type": "code",
   "execution_count": null,
   "metadata": {},
   "outputs": [],
   "source": [
    "#hide\n",
    "def timeit(method):\n",
    "    def timed(*args, **kw):\n",
    "        ts = time.time()\n",
    "        result = method(*args, **kw)\n",
    "        te = time.time()\n",
    "        if 'log_time' in kw:\n",
    "            name = kw.get('log_name', method.__name__.upper())\n",
    "            kw['log_time'][name] = int((te - ts) * 1000)\n",
    "        else:\n",
    "            print ('%r took %2.2f ms' % \\\n",
    "                  (method.__name__, (te - ts) * 1000))\n",
    "        return result\n",
    "    return timed"
   ]
  },
  {
   "cell_type": "markdown",
   "metadata": {},
   "source": [
    "## init sdk"
   ]
  },
  {
   "cell_type": "code",
   "execution_count": null,
   "metadata": {},
   "outputs": [
    {
     "name": "stdout",
     "output_type": "stream",
     "text": [
      "CPU times: user 36.6 ms, sys: 4.73 ms, total: 41.3 ms\n",
      "Wall time: 1.05 s\n"
     ]
    }
   ],
   "source": [
    "%%time\n",
    "sdk = InventorySdk(user=USER, pw=PW, branchName = branch)"
   ]
  },
  {
   "cell_type": "markdown",
   "metadata": {},
   "source": [
    "## Update inventory "
   ]
  },
  {
   "cell_type": "code",
   "execution_count": null,
   "metadata": {},
   "outputs": [
    {
     "name": "stdout",
     "output_type": "stream",
     "text": [
      "CPU times: user 53.4 ms, sys: 2.56 ms, total: 55.9 ms\n",
      "Wall time: 322 ms\n"
     ]
    },
    {
     "data": {
      "text/plain": [
       "{'body': 'true', 'statusCode': 200, 'header': {}}"
      ]
     },
     "execution_count": null,
     "metadata": {},
     "output_type": "execute_result"
    }
   ],
   "source": [
    "%%time\n",
    "sdk.updateWithS3( sampleInput )"
   ]
  },
  {
   "cell_type": "markdown",
   "metadata": {},
   "source": [
    "## Query single product"
   ]
  },
  {
   "cell_type": "code",
   "execution_count": null,
   "metadata": {},
   "outputs": [
    {
     "name": "stdout",
     "output_type": "stream",
     "text": [
      "CPU times: user 6.71 ms, sys: 7.73 ms, total: 14.4 ms\n",
      "Wall time: 83.5 ms\n"
     ]
    },
    {
     "data": {
      "text/plain": [
       "{'ib_prcode': '0000002',\n",
       " '1000': {'ib_cf_qty': 35,\n",
       "  'new_ib_bs_stock_cv': 33,\n",
       "  'lastUpdate': 1600567810.529301,\n",
       "  'ib_prcode': '0000002',\n",
       "  'ib_brcode': '1000'},\n",
       " '1001': {'ib_cf_qty': 32,\n",
       "  'new_ib_bs_stock_cv': 30,\n",
       "  'lastUpdate': 1600567810.529316,\n",
       "  'ib_prcode': '0000002',\n",
       "  'ib_brcode': '1001'},\n",
       " '1002': {'ib_cf_qty': 34,\n",
       "  'new_ib_bs_stock_cv': 30,\n",
       "  'lastUpdate': 1600567810.529318,\n",
       "  'ib_prcode': '0000002',\n",
       "  'ib_brcode': '1002'},\n",
       " 'lastUpdate': 1600567810.529318}"
      ]
     },
     "execution_count": null,
     "metadata": {},
     "output_type": "execute_result"
    }
   ],
   "source": [
    "%%time\n",
    "sdk.querySingleProduct('0000002')"
   ]
  },
  {
   "cell_type": "markdown",
   "metadata": {},
   "source": [
    "## Query Branch"
   ]
  },
  {
   "cell_type": "code",
   "execution_count": null,
   "metadata": {},
   "outputs": [
    {
     "name": "stdout",
     "output_type": "stream",
     "text": [
      "CPU times: user 360 ms, sys: 28.1 ms, total: 388 ms\n",
      "Wall time: 600 ms\n"
     ]
    },
    {
     "data": {
      "text/plain": [
       "[('0000009',\n",
       "  {'ib_cf_qty': 50,\n",
       "   'new_ib_bs_stock_cv': 27,\n",
       "   'lastUpdate': 1602338504.869655,\n",
       "   'ib_prcode': '0000009',\n",
       "   'ib_brcode': '1000'}),\n",
       " ('0000002',\n",
       "  {'ib_cf_qty': 35,\n",
       "   'new_ib_bs_stock_cv': 33,\n",
       "   'lastUpdate': 1600567810.529301,\n",
       "   'ib_prcode': '0000002',\n",
       "   'ib_brcode': '1000'})]"
      ]
     },
     "execution_count": null,
     "metadata": {},
     "output_type": "execute_result"
    }
   ],
   "source": [
    "%%time\n",
    "result = sdk.queryBranch('1000')\n",
    "#showing the first 2 result\n",
    "list(iter(result.items()))[:2]"
   ]
  },
  {
   "cell_type": "markdown",
   "metadata": {},
   "source": [
    "## Query All"
   ]
  },
  {
   "cell_type": "code",
   "execution_count": null,
   "metadata": {},
   "outputs": [
    {
     "name": "stdout",
     "output_type": "stream",
     "text": [
      "CPU times: user 2.34 s, sys: 90.4 ms, total: 2.43 s\n",
      "Wall time: 2.77 s\n"
     ]
    },
    {
     "data": {
      "text/plain": [
       "[('0000009',\n",
       "  {'ib_prcode': '0000009',\n",
       "   '1000': {'ib_cf_qty': 50,\n",
       "    'new_ib_bs_stock_cv': 27,\n",
       "    'lastUpdate': 1602338504.869655,\n",
       "    'ib_prcode': '0000009',\n",
       "    'ib_brcode': '1000'},\n",
       "   'lastUpdate': 1602338504.869655}),\n",
       " ('0000002',\n",
       "  {'ib_prcode': '0000002',\n",
       "   '1000': {'ib_cf_qty': 35,\n",
       "    'new_ib_bs_stock_cv': 33,\n",
       "    'lastUpdate': 1600567810.529301,\n",
       "    'ib_prcode': '0000002',\n",
       "    'ib_brcode': '1000'},\n",
       "   '1001': {'ib_cf_qty': 32,\n",
       "    'new_ib_bs_stock_cv': 30,\n",
       "    'lastUpdate': 1600567810.529316,\n",
       "    'ib_prcode': '0000002',\n",
       "    'ib_brcode': '1001'},\n",
       "   '1002': {'ib_cf_qty': 34,\n",
       "    'new_ib_bs_stock_cv': 30,\n",
       "    'lastUpdate': 1600567810.529318,\n",
       "    'ib_prcode': '0000002',\n",
       "    'ib_brcode': '1002'},\n",
       "   'lastUpdate': 1600567810.529318})]"
      ]
     },
     "execution_count": null,
     "metadata": {},
     "output_type": "execute_result"
    }
   ],
   "source": [
    "%%time\n",
    "result = sdk.queryAll()\n",
    "list(iter(result.items()))[:2]"
   ]
  }
 ],
 "metadata": {
  "kernelspec": {
   "display_name": "python38",
   "language": "python",
   "name": "python38"
  }
 },
 "nbformat": 4,
 "nbformat_minor": 4
}
