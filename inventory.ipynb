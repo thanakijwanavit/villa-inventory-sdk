{
 "cells": [
  {
   "cell_type": "code",
   "execution_count": null,
   "metadata": {},
   "outputs": [],
   "source": [
    "# default_exp inventory"
   ]
  },
  {
   "cell_type": "code",
   "execution_count": null,
   "metadata": {},
   "outputs": [],
   "source": [
    "#hide\n",
    "# !pip install -q nbdev lambdasdk s3bz"
   ]
  },
  {
   "cell_type": "code",
   "execution_count": null,
   "metadata": {},
   "outputs": [],
   "source": [
    "#hide\n",
    "USER=None\n",
    "PW=None"
   ]
  },
  {
   "cell_type": "markdown",
   "metadata": {},
   "source": [
    "# Inventory\n",
    "\n",
    "> upload and download inventory data from villa master backend"
   ]
  },
  {
   "cell_type": "code",
   "execution_count": null,
   "metadata": {},
   "outputs": [],
   "source": [
    "#hide\n",
    "from nbdev.showdoc import *"
   ]
  },
  {
   "cell_type": "code",
   "execution_count": null,
   "metadata": {},
   "outputs": [],
   "source": [
    "#export\n",
    "from json.decoder import JSONDecodeError\n",
    "from botocore.config import Config\n",
    "from s3bz.s3bz import S3, Requests\n",
    "from lambdasdk.lambdasdk import Lambda\n",
    "from awsSchema.apigateway import Event, Response\n",
    "import pandas as pd\n",
    "from nicHelper.wrappers import add_class_method, add_method\n",
    "from nicHelper.dictUtil import printDict\n",
    "from io import BytesIO\n",
    "import bz2, json, boto3, base64, logging, itertools , requests"
   ]
  },
  {
   "cell_type": "code",
   "execution_count": null,
   "metadata": {},
   "outputs": [],
   "source": [
    "#export\n",
    "def union(*dicts):\n",
    "    return dict(itertools.chain.from_iterable(dct.items() for dct in dicts))\n",
    "class Endpoints:\n",
    "  '''get endpoint names from branch name'''\n",
    "  def __init__(self, branchName='manual-dev'):\n",
    "    self.branchName = branchName\n",
    "  updateWithS3 = lambda self: f'update-inventory-s3-{self.branchName}'\n",
    "  inputS3 = lambda self: f'input-bucket-{self.branchName}'\n",
    "  querySingleProduct = lambda self: f'single-product-query-inventory-{self.branchName}'\n",
    "  queryAll = lambda self: f'query-all-inventory-{self.branchName}'\n",
    "  queryBranch = lambda self: f'query-branch-inventory-{self.branchName}'\n",
    "  queryAll2 = lambda self: f'query-all-inventory2-{self.branchName}'\n",
    "  \n",
    "  \n",
    "class InventorySdk:\n",
    "  ''' interact with villa inventory database '''\n",
    "  def __init__(self, branchName = 'dev', user = None, pw = None, \n",
    "               region = 'ap-southeast-1'):\n",
    "    self.branchName = branchName\n",
    "    self.lambdaClient = Lambda(user =user, pw=pw, region = region)\n",
    "    self.user = user; self.pw = pw; self.region = region\n",
    "    self.endpoint = Endpoints(branchName=branchName)\n",
    "    \n",
    "    \n",
    "  def updateWithS3(self, data:dict, \n",
    "                   key:str = 'allProducts',\n",
    "                   invocationType:str = 'Event'):\n",
    "    \n",
    "    # save to s3\n",
    "    S3.save(key = key, \n",
    "            objectToSave = data , \n",
    "            bucket = self.endpoint.inputS3(),\n",
    "            user=self.user, pw=self.pw)\n",
    "    logging.info(f'saving to s3 completed')\n",
    "    \n",
    "    lambdaPayload = {\n",
    "        'inputBucketName': self.endpoint.inputS3(),\n",
    "        'inputKeyName': key\n",
    "    }\n",
    "    logging.info(f'input to lambda is {lambdaPayload}')\n",
    "    try:\n",
    "      result = self.lambdaClient.invoke(functionName= self.endpoint.updateWithS3() \n",
    "                                        ,input=lambdaPayload,\n",
    "                                        invocationType= invocationType )\n",
    "      if result: return Response.getReturn(result)\n",
    "    except JSONDecodeError:\n",
    "      logging.warning('no return from function')\n",
    "      return True\n",
    "\n",
    "  def querySingleProduct(self, ib_prcode= None, functionName=None, \n",
    "                         user=None, pw=None):\n",
    "    '''query a single product'''\n",
    "    functionName = functionName or self.endpoint.querySingleProduct()\n",
    "    input = { \"body\": json.dumps({'ib_prcode': ib_prcode })}\n",
    "    response =  self.lambdaClient.invoke(\n",
    "        functionName = functionName, input = input )\n",
    "    try:\n",
    "      inventory = json.loads(Response.from_dict(response).body)\n",
    "      return {k:union(v,{'ib_prcode':ib_prcode,'ib_brcode':k}) \\\n",
    "              if k.isdigit() else v for k,v in inventory.items()}\n",
    "    except:\n",
    "      return response\n",
    "\n",
    "  def queryAll(self, functionName = None):\n",
    "    '''get the whole database'''\n",
    "    functionName = functionName or self.endpoint.queryAll()\n",
    "    response =  self.lambdaClient.invoke(\n",
    "        functionName = functionName, input = {} )\n",
    "    responseBody = json.loads(Response.from_dict(response).body)\n",
    "    ### return body\n",
    "    if 'url' in responseBody:\n",
    "      inventory =  Requests.getContentFromUrl(responseBody['url'])\n",
    "      return {k:{k2: union(v2, {'ib_prcode':k,'ib_brcode': k2}) if k2.isdigit() \n",
    "    else v2 for k2,v2 in v.items()} if k.isdigit() else v for k,v in inventory.items()}\n",
    "#       return {k:{k2: union(json.loads(v2), {'ib_prcode':k,'ib_brcode': k2})for k2,v2 in v.items()} for k,v in inventory.items()}\n",
    "    else :\n",
    "      logging.error(responseBody)\n",
    "      return responseBody\n",
    "  \n",
    "  def queryBranch(self, branch = '1000', functionName = None):\n",
    "    '''get the branch database'''\n",
    "    functionName = functionName or self.endpoint.queryBranch()\n",
    "    response =  self.lambdaClient.invoke(\n",
    "        functionName = functionName, input = {'body':json.dumps({'branch':branch})} )\n",
    "    responseBody = json.loads(Response.from_dict(response).body)\n",
    "    ### return body\n",
    "    if 'url' in responseBody:\n",
    "      inventory = Requests.getContentFromUrl(responseBody['url'])\n",
    "      return {k:union(v,{'ib_prcode':k,'ib_brcode':branch}) for k,v in inventory.items()}\n",
    "    else :\n",
    "      logging.error(responseBody)\n",
    "      return responseBody"
   ]
  },
  {
   "cell_type": "code",
   "execution_count": null,
   "metadata": {},
   "outputs": [],
   "source": [
    "from dataclasses import dataclass\n",
    "from dataclasses_json import dataclass_json\n",
    "from random import randrange\n",
    "from datetime import datetime\n",
    "import boto3\n"
   ]
  },
  {
   "cell_type": "markdown",
   "metadata": {},
   "source": [
    "## generate dummy data for testing"
   ]
  },
  {
   "cell_type": "code",
   "execution_count": null,
   "metadata": {},
   "outputs": [
    {
     "name": "stdout",
     "output_type": "stream",
     "text": [
      "CPU times: user 1.59 ms, sys: 338 µs, total: 1.93 ms\n",
      "Wall time: 1.94 ms\n"
     ]
    },
    {
     "data": {
      "text/plain": [
       "{'ib_prcode': '86987',\n",
       " 'ib_brcode': '1013',\n",
       " 'ib_cf_qty': '152',\n",
       " 'new_ib_vs_stock_cv': '829'}"
      ]
     },
     "execution_count": null,
     "metadata": {},
     "output_type": "execute_result"
    }
   ],
   "source": [
    "%%time\n",
    "#Dummy Data\n",
    "numberOfRows = 10\n",
    "@dataclass_json\n",
    "@dataclass\n",
    "class Inventory:\n",
    "  ib_prcode:str\n",
    "  ib_brcode:str\n",
    "  ib_cf_qty:str\n",
    "  new_ib_vs_stock_cv:str\n",
    "\n",
    "sampleLargeRandomInput = [ Inventory.from_dict({\n",
    "    'ib_brcode' : str(randrange(1000,1030,1)),\n",
    "    'ib_prcode' : str(randrange(10000,100000,1)),\n",
    "    'ib_cf_qty' : str(randrange(-10,1000,1)),\n",
    "    'new_ib_vs_stock_cv' : str(randrange(-10,1000,1))\n",
    "  }).to_dict() for _ in range(numberOfRows)]\n",
    "sampleLargeRandomInput[0]"
   ]
  },
  {
   "cell_type": "markdown",
   "metadata": {},
   "source": [
    "## create main object"
   ]
  },
  {
   "cell_type": "code",
   "execution_count": null,
   "metadata": {},
   "outputs": [],
   "source": [
    "sdk = InventorySdk(user=USER, pw=PW, branchName = 'dev-manual')"
   ]
  },
  {
   "cell_type": "markdown",
   "metadata": {},
   "source": [
    "## Upload the batch data using s3"
   ]
  },
  {
   "cell_type": "markdown",
   "metadata": {},
   "source": [
    "### SampleData"
   ]
  },
  {
   "cell_type": "code",
   "execution_count": null,
   "metadata": {},
   "outputs": [
    {
     "data": {
      "text/html": [
       "<div>\n",
       "<style scoped>\n",
       "    .dataframe tbody tr th:only-of-type {\n",
       "        vertical-align: middle;\n",
       "    }\n",
       "\n",
       "    .dataframe tbody tr th {\n",
       "        vertical-align: top;\n",
       "    }\n",
       "\n",
       "    .dataframe thead th {\n",
       "        text-align: right;\n",
       "    }\n",
       "</style>\n",
       "<table border=\"1\" class=\"dataframe\">\n",
       "  <thead>\n",
       "    <tr style=\"text-align: right;\">\n",
       "      <th></th>\n",
       "      <th>cprcode</th>\n",
       "      <th>brcode</th>\n",
       "      <th>ib_cf_qty</th>\n",
       "      <th>new_ib_vs_stock_cv</th>\n",
       "    </tr>\n",
       "  </thead>\n",
       "  <tbody>\n",
       "    <tr>\n",
       "      <th>0</th>\n",
       "      <td>0000009</td>\n",
       "      <td>1000</td>\n",
       "      <td>50</td>\n",
       "      <td>27</td>\n",
       "    </tr>\n",
       "    <tr>\n",
       "      <th>1</th>\n",
       "      <td>0000004</td>\n",
       "      <td>1000</td>\n",
       "      <td>35</td>\n",
       "      <td>33</td>\n",
       "    </tr>\n",
       "    <tr>\n",
       "      <th>2</th>\n",
       "      <td>0000003</td>\n",
       "      <td>1003</td>\n",
       "      <td>36</td>\n",
       "      <td>33</td>\n",
       "    </tr>\n",
       "  </tbody>\n",
       "</table>\n",
       "</div>"
      ],
      "text/plain": [
       "   cprcode brcode ib_cf_qty new_ib_vs_stock_cv\n",
       "0  0000009   1000        50                 27\n",
       "1  0000004   1000        35                 33\n",
       "2  0000003   1003        36                 33"
      ]
     },
     "execution_count": null,
     "metadata": {},
     "output_type": "execute_result"
    }
   ],
   "source": [
    "sampleInput =  [\n",
    "               {\n",
    "                  'cprcode': '0000009',\n",
    "                  'brcode': '1000',\n",
    "                  'ib_cf_qty': '50',\n",
    "                  'new_ib_vs_stock_cv': '27'\n",
    "                },\n",
    "               {\n",
    "                  'cprcode': '0000004',\n",
    "                  'brcode': '1000',\n",
    "                  'ib_cf_qty': '35',\n",
    "                  'new_ib_vs_stock_cv': '33'\n",
    "               },\n",
    "                {\n",
    "                  'cprcode': '0000003',\n",
    "                  'brcode': '1003',\n",
    "                  'ib_cf_qty': '36',\n",
    "                  'new_ib_vs_stock_cv': '33'\n",
    "               }\n",
    "              ]\n",
    "\n",
    "def getDf(input_:dict):\n",
    "  return pd.DataFrame(input_)\n",
    "  \n",
    "df = getDf(sampleInput)\n",
    "df"
   ]
  },
  {
   "cell_type": "markdown",
   "metadata": {},
   "source": [
    "### uploading to s3"
   ]
  },
  {
   "cell_type": "code",
   "execution_count": null,
   "metadata": {},
   "outputs": [],
   "source": [
    "#export\n",
    "@add_method(InventorySdk)\n",
    "def uploadDf(self, df:pd.DataFrame, key:str ='1000', invApi:str = '2y9nzxkuyk')->bin:\n",
    "  def getPresignedUrl(invApi = invApi, key = key):\n",
    "    url = f'https://{invApi}.execute-api.ap-southeast-1.amazonaws.com/Prod/presign'\n",
    "    r:requests.Response = requests.post(url, json = { \"key\": key } )\n",
    "    return r.json()\n",
    "  def dfToByte(df:pd.DataFrame):\n",
    "    tempIo = BytesIO()\n",
    "    inputByte = df.to_feather(tempIo)\n",
    "    return tempIo.getvalue()\n",
    "  def uploadFile(inputByte:bin, key=key):\n",
    "    presigned = getPresignedUrl(key=key)\n",
    "    print('signed url is ')\n",
    "    printDict(presigned)\n",
    "    files = {'file': (key , BytesIO(inputByte))}\n",
    "    r = requests.post(url = presigned['url'], data = presigned['fields'] , files = files)\n",
    "    return r\n",
    "  \n",
    "  ##### main \n",
    "  inputByte = dfToByte(df)\n",
    "  r = uploadFile(inputByte, key = key)\n",
    "  return r"
   ]
  },
  {
   "cell_type": "code",
   "execution_count": null,
   "metadata": {},
   "outputs": [
    {
     "name": "stdout",
     "output_type": "stream",
     "text": [
      "signed url is \n",
      "url : https://in\n",
      "fields\n",
      " key : 1000\n",
      " AWSAccessKeyId : ASIAVX4Z5T\n",
      " x-amz-security-token : IQoJb3JpZ2\n",
      " policy : eyJleHBpcm\n",
      " signature : 9gca5MosO/\n"
     ]
    },
    {
     "data": {
      "text/plain": [
       "<Response [204]>"
      ]
     },
     "execution_count": null,
     "metadata": {},
     "output_type": "execute_result"
    }
   ],
   "source": [
    "#hide\n",
    "sdk.uploadDf(df, invApi = '2y9nzxkuyk')"
   ]
  },
  {
   "cell_type": "markdown",
   "metadata": {},
   "source": [
    "### trigger ingestion"
   ]
  },
  {
   "cell_type": "code",
   "execution_count": null,
   "metadata": {},
   "outputs": [],
   "source": [
    "@add_method(InventorySdk)\n",
    "def ingestData(self, functionName= 'trigger-ingestion-dev-manual', key='1000', dtype='feather'):\n",
    "  lambda_:Lambda = self.lambdaClient\n",
    "  result = lambda_.invoke(functionName=functionName, input=Event.getInput({'key':key, 'dtype':dtype}))\n",
    "  return result"
   ]
  },
  {
   "cell_type": "code",
   "execution_count": null,
   "metadata": {},
   "outputs": [
    {
     "data": {
      "text/plain": [
       "{'body': '{}',\n",
       " 'statusCode': 200,\n",
       " 'headers': {'Access-Control-Allow-Headers': '*',\n",
       "  'Access-Control-Allow-Origin': '*',\n",
       "  'Access-Control-Allow-Methods': '*'}}"
      ]
     },
     "execution_count": null,
     "metadata": {},
     "output_type": "execute_result"
    }
   ],
   "source": [
    "sdk.ingestData(key = '1000')"
   ]
  },
  {
   "cell_type": "markdown",
   "metadata": {},
   "source": [
    "### The whole flow"
   ]
  },
  {
   "cell_type": "code",
   "execution_count": null,
   "metadata": {},
   "outputs": [
    {
     "name": "stdout",
     "output_type": "stream",
     "text": [
      "signed url is \n",
      "url : https://in\n",
      "fields\n",
      " key : test\n",
      " AWSAccessKeyId : ASIAVX4Z5T\n",
      " x-amz-security-token : IQoJb3JpZ2\n",
      " policy : eyJleHBpcm\n",
      " signature : 3/oEkKHHPc\n"
     ]
    },
    {
     "data": {
      "text/plain": [
       "{'body': '{}',\n",
       " 'statusCode': 200,\n",
       " 'headers': {'Access-Control-Allow-Headers': '*',\n",
       "  'Access-Control-Allow-Origin': '*',\n",
       "  'Access-Control-Allow-Methods': '*'}}"
      ]
     },
     "execution_count": null,
     "metadata": {},
     "output_type": "execute_result"
    }
   ],
   "source": [
    "key = 'test'\n",
    "r = sdk.uploadDf(df, key = key)\n",
    "if r.status_code >= 400: raise Exception(r.json())\n",
    "sdk.ingestData(key = key)"
   ]
  },
  {
   "cell_type": "markdown",
   "metadata": {},
   "source": [
    "## Query a branch"
   ]
  },
  {
   "cell_type": "code",
   "execution_count": null,
   "metadata": {},
   "outputs": [
    {
     "name": "stdout",
     "output_type": "stream",
     "text": [
      "CPU times: user 23 µs, sys: 0 ns, total: 23 µs\n",
      "Wall time: 27.7 µs\n"
     ]
    }
   ],
   "source": [
    "%%time\n",
    "@add_method(InventorySdk)\n",
    "def branchQuery(self, brcode:str, cprcodes:list=[]):\n",
    "  lambda_: Lambda =self.lambdaClient\n",
    "  payload = Event.getInput({\n",
    "    'brcode': brcode,\n",
    "    'cprcodes': cprcodes\n",
    "  })\n",
    "  rawReturn = lambda_.invoke(functionName=self.endpoint.queryBranch(), input = payload)\n",
    "  parsedReturn = Response.parseBody(rawReturn)\n",
    "  return parsedReturn\n",
    "  "
   ]
  },
  {
   "cell_type": "code",
   "execution_count": null,
   "metadata": {},
   "outputs": [
    {
     "data": {
      "text/plain": [
       "{'data': {'index': [0, 1],\n",
       "  'columns': ['cprcode', 'brcode', 'ib_cf_qty', 'new_ib_vs_stock_cv'],\n",
       "  'data': [['0000009', '1000', '50', '27'], ['0000004', '1000', '35', '33']]}}"
      ]
     },
     "execution_count": null,
     "metadata": {},
     "output_type": "execute_result"
    }
   ],
   "source": [
    "sdk.branchQuery('1000')"
   ]
  },
  {
   "cell_type": "markdown",
   "metadata": {},
   "source": [
    "## Query All"
   ]
  },
  {
   "cell_type": "code",
   "execution_count": null,
   "metadata": {},
   "outputs": [],
   "source": [
    "@add_method(InventorySdk)\n",
    "def queryAll2(self, format_ = 'feather'):\n",
    "  functionName = self.endpoint.queryAll2()\n",
    "  r =  self.lambdaClient.invoke(\n",
    "      functionName = functionName, input = Event.getInput({'format': format_ } ))\n",
    "  if r['statusCode'] > 300 :\n",
    "    raise Exception(f'error getting database url {r}')\n",
    "  body = Response.parseBody(r)\n",
    "  url = body['url']\n",
    "  print('succesfully get url, returning pandas')\n",
    "  if format_ == 'feather':\n",
    "    return pd.read_feather(url)\n",
    "  return pd.read_json(url, orient='split', dtype= 'str')\n",
    "  "
   ]
  },
  {
   "cell_type": "code",
   "execution_count": null,
   "metadata": {},
   "outputs": [
    {
     "name": "stdout",
     "output_type": "stream",
     "text": [
      "succesfully get url, returning pandas\n",
      "CPU times: user 18.5 ms, sys: 0 ns, total: 18.5 ms\n",
      "Wall time: 2.95 s\n"
     ]
    },
    {
     "data": {
      "text/html": [
       "<div>\n",
       "<style scoped>\n",
       "    .dataframe tbody tr th:only-of-type {\n",
       "        vertical-align: middle;\n",
       "    }\n",
       "\n",
       "    .dataframe tbody tr th {\n",
       "        vertical-align: top;\n",
       "    }\n",
       "\n",
       "    .dataframe thead th {\n",
       "        text-align: right;\n",
       "    }\n",
       "</style>\n",
       "<table border=\"1\" class=\"dataframe\">\n",
       "  <thead>\n",
       "    <tr style=\"text-align: right;\">\n",
       "      <th></th>\n",
       "      <th>cprcode</th>\n",
       "      <th>brcode</th>\n",
       "      <th>ib_cf_qty</th>\n",
       "      <th>new_ib_vs_stock_cv</th>\n",
       "    </tr>\n",
       "  </thead>\n",
       "  <tbody>\n",
       "    <tr>\n",
       "      <th>0</th>\n",
       "      <td>1234</td>\n",
       "      <td>test</td>\n",
       "      <td>123</td>\n",
       "      <td>123</td>\n",
       "    </tr>\n",
       "    <tr>\n",
       "      <th>1</th>\n",
       "      <td>12345</td>\n",
       "      <td>test</td>\n",
       "      <td>345</td>\n",
       "      <td>345</td>\n",
       "    </tr>\n",
       "    <tr>\n",
       "      <th>2</th>\n",
       "      <td>0000009</td>\n",
       "      <td>1000</td>\n",
       "      <td>50</td>\n",
       "      <td>27</td>\n",
       "    </tr>\n",
       "    <tr>\n",
       "      <th>3</th>\n",
       "      <td>0000004</td>\n",
       "      <td>1000</td>\n",
       "      <td>35</td>\n",
       "      <td>33</td>\n",
       "    </tr>\n",
       "    <tr>\n",
       "      <th>4</th>\n",
       "      <td>0000003</td>\n",
       "      <td>1003</td>\n",
       "      <td>36</td>\n",
       "      <td>33</td>\n",
       "    </tr>\n",
       "  </tbody>\n",
       "</table>\n",
       "</div>"
      ],
      "text/plain": [
       "   cprcode brcode ib_cf_qty new_ib_vs_stock_cv\n",
       "0     1234   test       123                123\n",
       "1    12345   test       345                345\n",
       "2  0000009   1000        50                 27\n",
       "3  0000004   1000        35                 33\n",
       "4  0000003   1003        36                 33"
      ]
     },
     "execution_count": null,
     "metadata": {},
     "output_type": "execute_result"
    }
   ],
   "source": [
    "%%time\n",
    "sdk.queryAll2()"
   ]
  },
  {
   "cell_type": "code",
   "execution_count": null,
   "metadata": {},
   "outputs": [
    {
     "name": "stdout",
     "output_type": "stream",
     "text": [
      "succesfully get url, returning pandas\n",
      "CPU times: user 26.9 ms, sys: 0 ns, total: 26.9 ms\n",
      "Wall time: 246 ms\n"
     ]
    },
    {
     "data": {
      "text/html": [
       "<div>\n",
       "<style scoped>\n",
       "    .dataframe tbody tr th:only-of-type {\n",
       "        vertical-align: middle;\n",
       "    }\n",
       "\n",
       "    .dataframe tbody tr th {\n",
       "        vertical-align: top;\n",
       "    }\n",
       "\n",
       "    .dataframe thead th {\n",
       "        text-align: right;\n",
       "    }\n",
       "</style>\n",
       "<table border=\"1\" class=\"dataframe\">\n",
       "  <thead>\n",
       "    <tr style=\"text-align: right;\">\n",
       "      <th></th>\n",
       "      <th>cprcode</th>\n",
       "      <th>brcode</th>\n",
       "      <th>ib_cf_qty</th>\n",
       "      <th>new_ib_vs_stock_cv</th>\n",
       "    </tr>\n",
       "  </thead>\n",
       "  <tbody>\n",
       "    <tr>\n",
       "      <th>0</th>\n",
       "      <td>1234</td>\n",
       "      <td>test</td>\n",
       "      <td>123</td>\n",
       "      <td>123</td>\n",
       "    </tr>\n",
       "    <tr>\n",
       "      <th>1</th>\n",
       "      <td>12345</td>\n",
       "      <td>test</td>\n",
       "      <td>345</td>\n",
       "      <td>345</td>\n",
       "    </tr>\n",
       "    <tr>\n",
       "      <th>2</th>\n",
       "      <td>0000009</td>\n",
       "      <td>1000</td>\n",
       "      <td>50</td>\n",
       "      <td>27</td>\n",
       "    </tr>\n",
       "    <tr>\n",
       "      <th>3</th>\n",
       "      <td>0000004</td>\n",
       "      <td>1000</td>\n",
       "      <td>35</td>\n",
       "      <td>33</td>\n",
       "    </tr>\n",
       "    <tr>\n",
       "      <th>4</th>\n",
       "      <td>0000003</td>\n",
       "      <td>1003</td>\n",
       "      <td>36</td>\n",
       "      <td>33</td>\n",
       "    </tr>\n",
       "  </tbody>\n",
       "</table>\n",
       "</div>"
      ],
      "text/plain": [
       "   cprcode brcode ib_cf_qty new_ib_vs_stock_cv\n",
       "0     1234   test       123                123\n",
       "1    12345   test       345                345\n",
       "2  0000009   1000        50                 27\n",
       "3  0000004   1000        35                 33\n",
       "4  0000003   1003        36                 33"
      ]
     },
     "execution_count": null,
     "metadata": {},
     "output_type": "execute_result"
    }
   ],
   "source": [
    "%%time\n",
    "sdk.queryAll2(format_='json')"
   ]
  },
  {
   "cell_type": "code",
   "execution_count": null,
   "metadata": {},
   "outputs": [
    {
     "name": "stdout",
     "output_type": "stream",
     "text": [
      "CPU times: user 2.45 s, sys: 135 ms, total: 2.58 s\n",
      "Wall time: 5 s\n"
     ]
    },
    {
     "data": {
      "text/plain": [
       "[('0000009',\n",
       "  {'ib_prcode': '0000009',\n",
       "   '1000': {'ib_cf_qty': 50,\n",
       "    'new_ib_bs_stock_cv': 27,\n",
       "    'lastUpdate': 1602338504.869655,\n",
       "    'ib_prcode': '0000009',\n",
       "    'ib_brcode': '1000'},\n",
       "   'lastUpdate': 1602338504.869655}),\n",
       " ('0000002',\n",
       "  {'ib_prcode': '0000002',\n",
       "   '1000': {'ib_cf_qty': 35,\n",
       "    'new_ib_bs_stock_cv': 33,\n",
       "    'lastUpdate': 1600567810.529301,\n",
       "    'ib_prcode': '0000002',\n",
       "    'ib_brcode': '1000'},\n",
       "   '1001': {'ib_cf_qty': 32,\n",
       "    'new_ib_bs_stock_cv': 30,\n",
       "    'lastUpdate': 1600567810.529316,\n",
       "    'ib_prcode': '0000002',\n",
       "    'ib_brcode': '1001'},\n",
       "   '1002': {'ib_cf_qty': 34,\n",
       "    'new_ib_bs_stock_cv': 30,\n",
       "    'lastUpdate': 1600567810.529318,\n",
       "    'ib_prcode': '0000002',\n",
       "    'ib_brcode': '1002'},\n",
       "   'lastUpdate': 1600567810.529318})]"
      ]
     },
     "execution_count": null,
     "metadata": {},
     "output_type": "execute_result"
    }
   ],
   "source": [
    "%%time\n",
    "result = sdk.queryAll()\n",
    "list(iter(result.items()))[:2]"
   ]
  },
  {
   "cell_type": "code",
   "execution_count": null,
   "metadata": {},
   "outputs": [
    {
     "name": "stdout",
     "output_type": "stream",
     "text": [
      "Converted index.ipynb.\n",
      "Converted inventory.ipynb.\n"
     ]
    }
   ],
   "source": [
    "#hide\n",
    "from nbdev.export import *\n",
    "notebook2script()"
   ]
  },
  {
   "cell_type": "markdown",
   "metadata": {},
   "source": [
    "## schema\n",
    "```\n",
    "key:str # key is ib_prcode\n",
    "  ib_cf_qty: int\n",
    "  new_ib_bs_stock_cv: int\n",
    "  lastUpdate: float\n",
    "  ib_brcode: str\n",
    "  ib_prcode: str\n",
    "```"
   ]
  },
  {
   "cell_type": "code",
   "execution_count": null,
   "metadata": {},
   "outputs": [],
   "source": []
  }
 ],
 "metadata": {
  "kernelspec": {
   "display_name": "python38",
   "language": "python",
   "name": "python38"
  }
 },
 "nbformat": 4,
 "nbformat_minor": 4
}
