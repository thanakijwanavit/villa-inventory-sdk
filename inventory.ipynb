{
 "cells": [
  {
   "cell_type": "code",
   "execution_count": null,
   "metadata": {},
   "outputs": [],
   "source": [
    "# default_exp inventory"
   ]
  },
  {
   "cell_type": "code",
   "execution_count": null,
   "metadata": {},
   "outputs": [],
   "source": [
    "#hide\n",
    "# !pip install -q nbdev lambdasdk s3bz"
   ]
  },
  {
   "cell_type": "code",
   "execution_count": null,
   "metadata": {},
   "outputs": [],
   "source": [
    "#hide\n",
    "USER=None\n",
    "PW=None"
   ]
  },
  {
   "cell_type": "markdown",
   "metadata": {},
   "source": [
    "# Inventory\n",
    "\n",
    "> upload and download inventory data from villa master backend"
   ]
  },
  {
   "cell_type": "code",
   "execution_count": null,
   "metadata": {},
   "outputs": [],
   "source": [
    "#hide\n",
    "from nbdev.showdoc import *"
   ]
  },
  {
   "cell_type": "code",
   "execution_count": null,
   "metadata": {},
   "outputs": [],
   "source": [
    "#export\n",
    "from json.decoder import JSONDecodeError\n",
    "from botocore.config import Config\n",
    "from s3bz.s3bz import S3, Requests\n",
    "from lambdasdk.lambdasdk import Lambda\n",
    "from awsSchema.apigateway import Event, Response\n",
    "import pandas as pd\n",
    "from nicHelper.wrappers import add_class_method, add_method\n",
    "from nicHelper.dictUtil import printDict\n",
    "from io import BytesIO\n",
    "from typing import List\n",
    "import bz2, json, boto3, base64, logging, itertools , requests"
   ]
  },
  {
   "cell_type": "code",
   "execution_count": null,
   "metadata": {},
   "outputs": [],
   "source": [
    "#export\n",
    "def union(*dicts):\n",
    "    return dict(itertools.chain.from_iterable(dct.items() for dct in dicts))\n",
    "class Endpoints:\n",
    "  '''get endpoint names from branch name'''\n",
    "  def __init__(self, branchName='manual-dev'):\n",
    "    self.branchName = branchName\n",
    "  updateWithS3 = lambda self: f'update-inventory-s3-{self.branchName}'\n",
    "  inputS3 = lambda self: f'input-bucket-{self.branchName}'\n",
    "  querySingleProduct = lambda self: f'single-product-query-inventory-{self.branchName}'\n",
    "  queryAll = lambda self: f'query-all-inventory-{self.branchName}'\n",
    "  queryBranch = lambda self: f'query-branch-inventory-{self.branchName}'\n",
    "  queryAll2 = lambda self: f'query-all-inventory2-{self.branchName}'\n",
    "  \n",
    "  \n",
    "class InventorySdk:\n",
    "  ''' interact with villa inventory database '''\n",
    "  def __init__(self, branchName = 'dev', user = None, pw = None, \n",
    "               region = 'ap-southeast-1'):\n",
    "    self.branchName = branchName\n",
    "    self.lambdaClient = Lambda(user =user, pw=pw, region = region)\n",
    "    self.user = user; self.pw = pw; self.region = region\n",
    "    self.endpoint = Endpoints(branchName=branchName)\n",
    "    \n",
    "    \n",
    "  def updateWithS3(self, data:dict, \n",
    "                   key:str = 'allProducts',\n",
    "                   invocationType:str = 'Event'):\n",
    "    \n",
    "    # save to s3\n",
    "    S3.save(key = key, \n",
    "            objectToSave = data , \n",
    "            bucket = self.endpoint.inputS3(),\n",
    "            user=self.user, pw=self.pw)\n",
    "    logging.info(f'saving to s3 completed')\n",
    "    \n",
    "    lambdaPayload = {\n",
    "        'inputBucketName': self.endpoint.inputS3(),\n",
    "        'inputKeyName': key\n",
    "    }\n",
    "    logging.info(f'input to lambda is {lambdaPayload}')\n",
    "    try:\n",
    "      result = self.lambdaClient.invoke(functionName= self.endpoint.updateWithS3() \n",
    "                                        ,input=lambdaPayload,\n",
    "                                        invocationType= invocationType )\n",
    "      if result: return Response.getReturn(result)\n",
    "    except JSONDecodeError:\n",
    "      logging.warning('no return from function')\n",
    "      return True\n",
    "\n",
    "  def querySingleProduct(self, ib_prcode= None, functionName=None, \n",
    "                         user=None, pw=None):\n",
    "    '''query a single product'''\n",
    "    functionName = functionName or self.endpoint.querySingleProduct()\n",
    "    input = { \"body\": json.dumps({'ib_prcode': ib_prcode })}\n",
    "    response =  self.lambdaClient.invoke(\n",
    "        functionName = functionName, input = input )\n",
    "    try:\n",
    "      inventory = json.loads(Response.from_dict(response).body)\n",
    "      return {k:union(v,{'ib_prcode':ib_prcode,'ib_brcode':k}) \\\n",
    "              if k.isdigit() else v for k,v in inventory.items()}\n",
    "    except:\n",
    "      return response\n",
    "\n",
    "  def queryAll(self, functionName = None):\n",
    "    '''get the whole database'''\n",
    "    functionName = functionName or self.endpoint.queryAll()\n",
    "    response =  self.lambdaClient.invoke(\n",
    "        functionName = functionName, input = {} )\n",
    "    responseBody = json.loads(Response.from_dict(response).body)\n",
    "    ### return body\n",
    "    if 'url' in responseBody:\n",
    "      inventory =  Requests.getContentFromUrl(responseBody['url'])\n",
    "      return {k:{k2: union(v2, {'ib_prcode':k,'ib_brcode': k2}) if k2.isdigit() \n",
    "    else v2 for k2,v2 in v.items()} if k.isdigit() else v for k,v in inventory.items()}\n",
    "#       return {k:{k2: union(json.loads(v2), {'ib_prcode':k,'ib_brcode': k2})for k2,v2 in v.items()} for k,v in inventory.items()}\n",
    "    else :\n",
    "      logging.error(responseBody)\n",
    "      return responseBody\n",
    "  \n",
    "  def queryBranch(self, branch = '1000', functionName = None):\n",
    "    '''get the branch database'''\n",
    "    functionName = functionName or self.endpoint.queryBranch()\n",
    "    response =  self.lambdaClient.invoke(\n",
    "        functionName = functionName, input = {'body':json.dumps({'branch':branch})} )\n",
    "    responseBody = json.loads(Response.from_dict(response).body)\n",
    "    ### return body\n",
    "    if 'url' in responseBody:\n",
    "      inventory = Requests.getContentFromUrl(responseBody['url'])\n",
    "      return {k:union(v,{'ib_prcode':k,'ib_brcode':branch}) for k,v in inventory.items()}\n",
    "    else :\n",
    "      logging.error(responseBody)\n",
    "      return responseBody"
   ]
  },
  {
   "cell_type": "code",
   "execution_count": null,
   "metadata": {},
   "outputs": [],
   "source": [
    "from dataclasses import dataclass\n",
    "from dataclasses_json import dataclass_json\n",
    "from random import randrange\n",
    "from datetime import datetime\n",
    "import boto3\n"
   ]
  },
  {
   "cell_type": "markdown",
   "metadata": {},
   "source": [
    "## generate dummy data for testing"
   ]
  },
  {
   "cell_type": "code",
   "execution_count": null,
   "metadata": {},
   "outputs": [
    {
     "name": "stdout",
     "output_type": "stream",
     "text": [
      "CPU times: user 1.97 ms, sys: 0 ns, total: 1.97 ms\n",
      "Wall time: 1.98 ms\n"
     ]
    },
    {
     "data": {
      "text/plain": [
       "{'ib_prcode': '29753',\n",
       " 'ib_brcode': '1029',\n",
       " 'ib_cf_qty': '104',\n",
       " 'new_ib_vs_stock_cv': '876'}"
      ]
     },
     "execution_count": null,
     "metadata": {},
     "output_type": "execute_result"
    }
   ],
   "source": [
    "%%time\n",
    "#Dummy Data\n",
    "numberOfRows = 10\n",
    "@dataclass_json\n",
    "@dataclass\n",
    "class Inventory:\n",
    "  ib_prcode:str\n",
    "  ib_brcode:str\n",
    "  ib_cf_qty:str\n",
    "  new_ib_vs_stock_cv:str\n",
    "\n",
    "sampleLargeRandomInput = [ Inventory.from_dict({\n",
    "    'ib_brcode' : str(randrange(1000,1030,1)),\n",
    "    'ib_prcode' : str(randrange(10000,100000,1)),\n",
    "    'ib_cf_qty' : str(randrange(-10,1000,1)),\n",
    "    'new_ib_vs_stock_cv' : str(randrange(-10,1000,1))\n",
    "  }).to_dict() for _ in range(numberOfRows)]\n",
    "sampleLargeRandomInput[0]"
   ]
  },
  {
   "cell_type": "markdown",
   "metadata": {},
   "source": [
    "## create main object"
   ]
  },
  {
   "cell_type": "code",
   "execution_count": null,
   "metadata": {},
   "outputs": [],
   "source": [
    "sdk = InventorySdk(user=USER, pw=PW, branchName = 'dev-manual')"
   ]
  },
  {
   "cell_type": "markdown",
   "metadata": {},
   "source": [
    "## Upload the batch data using s3"
   ]
  },
  {
   "cell_type": "markdown",
   "metadata": {},
   "source": [
    "### SampleData"
   ]
  },
  {
   "cell_type": "code",
   "execution_count": null,
   "metadata": {},
   "outputs": [
    {
     "data": {
      "text/html": [
       "<div>\n",
       "<style scoped>\n",
       "    .dataframe tbody tr th:only-of-type {\n",
       "        vertical-align: middle;\n",
       "    }\n",
       "\n",
       "    .dataframe tbody tr th {\n",
       "        vertical-align: top;\n",
       "    }\n",
       "\n",
       "    .dataframe thead th {\n",
       "        text-align: right;\n",
       "    }\n",
       "</style>\n",
       "<table border=\"1\" class=\"dataframe\">\n",
       "  <thead>\n",
       "    <tr style=\"text-align: right;\">\n",
       "      <th></th>\n",
       "      <th>iprcode</th>\n",
       "      <th>brcode</th>\n",
       "      <th>ib_cf_qty</th>\n",
       "      <th>new_ib_vs_stock_cv</th>\n",
       "    </tr>\n",
       "  </thead>\n",
       "  <tbody>\n",
       "    <tr>\n",
       "      <th>0</th>\n",
       "      <td>0000009</td>\n",
       "      <td>1000</td>\n",
       "      <td>50</td>\n",
       "      <td>27</td>\n",
       "    </tr>\n",
       "    <tr>\n",
       "      <th>1</th>\n",
       "      <td>0000004</td>\n",
       "      <td>1000</td>\n",
       "      <td>35</td>\n",
       "      <td>33</td>\n",
       "    </tr>\n",
       "    <tr>\n",
       "      <th>2</th>\n",
       "      <td>0000003</td>\n",
       "      <td>1003</td>\n",
       "      <td>36</td>\n",
       "      <td>33</td>\n",
       "    </tr>\n",
       "  </tbody>\n",
       "</table>\n",
       "</div>"
      ],
      "text/plain": [
       "   iprcode brcode ib_cf_qty new_ib_vs_stock_cv\n",
       "0  0000009   1000        50                 27\n",
       "1  0000004   1000        35                 33\n",
       "2  0000003   1003        36                 33"
      ]
     },
     "execution_count": null,
     "metadata": {},
     "output_type": "execute_result"
    }
   ],
   "source": [
    "sampleInput =  [\n",
    "               {\n",
    "                  'iprcode': '0000009',\n",
    "                  'brcode': '1000',\n",
    "                  'ib_cf_qty': '50',\n",
    "                  'new_ib_vs_stock_cv': '27'\n",
    "                },\n",
    "               {\n",
    "                  'iprcode': '0000004',\n",
    "                  'brcode': '1000',\n",
    "                  'ib_cf_qty': '35',\n",
    "                  'new_ib_vs_stock_cv': '33'\n",
    "               },\n",
    "                {\n",
    "                  'iprcode': '0000003',\n",
    "                  'brcode': '1003',\n",
    "                  'ib_cf_qty': '36',\n",
    "                  'new_ib_vs_stock_cv': '33'\n",
    "               }\n",
    "              ]\n",
    "\n",
    "def getDf(input_:dict):\n",
    "  return pd.DataFrame(input_)\n",
    "  \n",
    "df = getDf(sampleInput)\n",
    "df"
   ]
  },
  {
   "cell_type": "markdown",
   "metadata": {},
   "source": [
    "### uploading to s3"
   ]
  },
  {
   "cell_type": "code",
   "execution_count": null,
   "metadata": {},
   "outputs": [],
   "source": [
    "#export\n",
    "@add_method(InventorySdk)\n",
    "def uploadDf(self, df:pd.DataFrame, key:str ='1000', invApi:str = '2y9nzxkuyk')->bin:\n",
    "  def getPresignedUrl(invApi = invApi, key = key):\n",
    "    url = f'https://{invApi}.execute-api.ap-southeast-1.amazonaws.com/Prod/presign'\n",
    "    r:requests.Response = requests.post(url, json = { \"key\": key } )\n",
    "    return r.json()\n",
    "  def dfToByte(df:pd.DataFrame):\n",
    "    tempIo = BytesIO()\n",
    "    inputByte = df.to_feather(tempIo)\n",
    "    return tempIo.getvalue()\n",
    "  def uploadFile(inputByte:bin, key=key):\n",
    "    presigned = getPresignedUrl(key=key)\n",
    "    print('signed url is ')\n",
    "    printDict(presigned)\n",
    "    files = {'file': (key , BytesIO(inputByte))}\n",
    "    r = requests.post(url = presigned['url'], data = presigned['fields'] , files = files)\n",
    "    return r\n",
    "  \n",
    "  ##### main \n",
    "  inputByte = dfToByte(df)\n",
    "  r = uploadFile(inputByte, key = key)\n",
    "  return r"
   ]
  },
  {
   "cell_type": "code",
   "execution_count": null,
   "metadata": {},
   "outputs": [
    {
     "name": "stdout",
     "output_type": "stream",
     "text": [
      "signed url is \n",
      "url : https://in\n",
      "fields\n",
      " key : 1000\n",
      " AWSAccessKeyId : ASIAVX4Z5T\n",
      " x-amz-security-token : IQoJb3JpZ2\n",
      " policy : eyJleHBpcm\n",
      " signature : kri0RzYNXu\n"
     ]
    },
    {
     "data": {
      "text/plain": [
       "<Response [204]>"
      ]
     },
     "execution_count": null,
     "metadata": {},
     "output_type": "execute_result"
    }
   ],
   "source": [
    "#hide\n",
    "sdk.uploadDf(df, invApi = '2y9nzxkuyk')"
   ]
  },
  {
   "cell_type": "code",
   "execution_count": null,
   "metadata": {},
   "outputs": [
    {
     "name": "stdout",
     "output_type": "stream",
     "text": [
      "signed url is \n",
      "url : https://in\n",
      "fields\n",
      " key : 1000\n",
      " AWSAccessKeyId : ASIAVX4Z5T\n",
      " x-amz-security-token : IQoJb3JpZ2\n",
      " policy : eyJleHBpcm\n",
      " signature : 6/TJQ3dZxL\n"
     ]
    },
    {
     "data": {
      "text/plain": [
       "<Response [204]>"
      ]
     },
     "execution_count": null,
     "metadata": {},
     "output_type": "execute_result"
    }
   ],
   "source": [
    "#hide\n",
    "pd.read_csv('sampleData/inventory.csv',index_col=0).reset_index(drop=True)\n",
    "sdk.uploadDf(df, invApi = '2y9nzxkuyk')"
   ]
  },
  {
   "cell_type": "markdown",
   "metadata": {},
   "source": [
    "### trigger ingestion"
   ]
  },
  {
   "cell_type": "code",
   "execution_count": null,
   "metadata": {},
   "outputs": [],
   "source": [
    "#export\n",
    "@add_method(InventorySdk)\n",
    "def ingestData(self, functionName= 'trigger-ingestion-dev-manual', key='1000', dtype='feather'):\n",
    "  lambda_:Lambda = self.lambdaClient\n",
    "  result = lambda_.invoke(functionName=functionName, input=Event.getInput({'key':key, 'dtype':dtype}))\n",
    "  return result"
   ]
  },
  {
   "cell_type": "code",
   "execution_count": null,
   "metadata": {},
   "outputs": [
    {
     "data": {
      "text/plain": [
       "{'body': '{\"iprcode\":{\"0\":\"0000009\",\"1\":\"0000004\",\"2\":\"0000003\"},\"brcode\":{\"0\":\"1000\",\"1\":\"1000\",\"2\":\"1003\"},\"ib_cf_qty\":{\"0\":\"50\",\"1\":\"35\",\"2\":\"36\"},\"new_ib_vs_stock_cv\":{\"0\":\"27\",\"1\":\"33\",\"2\":\"33\"}}',\n",
       " 'statusCode': 200,\n",
       " 'headers': {'Access-Control-Allow-Headers': '*',\n",
       "  'Access-Control-Allow-Origin': '*',\n",
       "  'Access-Control-Allow-Methods': '*'}}"
      ]
     },
     "execution_count": null,
     "metadata": {},
     "output_type": "execute_result"
    }
   ],
   "source": [
    "sdk.ingestData(key = '1000')"
   ]
  },
  {
   "cell_type": "markdown",
   "metadata": {},
   "source": [
    "### The whole flow"
   ]
  },
  {
   "cell_type": "code",
   "execution_count": null,
   "metadata": {},
   "outputs": [
    {
     "name": "stdout",
     "output_type": "stream",
     "text": [
      "signed url is \n",
      "url : https://in\n",
      "fields\n",
      " key : test\n",
      " AWSAccessKeyId : ASIAVX4Z5T\n",
      " x-amz-security-token : IQoJb3JpZ2\n",
      " policy : eyJleHBpcm\n",
      " signature : sjg3Unz1l3\n",
      "CPU times: user 30.6 ms, sys: 247 µs, total: 30.9 ms\n",
      "Wall time: 517 ms\n"
     ]
    },
    {
     "data": {
      "text/plain": [
       "{'body': '{\"iprcode\":{\"0\":\"0000009\",\"1\":\"0000004\",\"2\":\"0000003\"},\"brcode\":{\"0\":\"1000\",\"1\":\"1000\",\"2\":\"1003\"},\"ib_cf_qty\":{\"0\":\"50\",\"1\":\"35\",\"2\":\"36\"},\"new_ib_vs_stock_cv\":{\"0\":\"27\",\"1\":\"33\",\"2\":\"33\"}}',\n",
       " 'statusCode': 200,\n",
       " 'headers': {'Access-Control-Allow-Headers': '*',\n",
       "  'Access-Control-Allow-Origin': '*',\n",
       "  'Access-Control-Allow-Methods': '*'}}"
      ]
     },
     "execution_count": null,
     "metadata": {},
     "output_type": "execute_result"
    }
   ],
   "source": [
    "%%time\n",
    "key = 'test'\n",
    "r = sdk.uploadDf(df, key = key)\n",
    "if r.status_code >= 400: raise Exception(r.json())\n",
    "sdk.ingestData(key = key)"
   ]
  },
  {
   "cell_type": "markdown",
   "metadata": {},
   "source": [
    "## Query a branch"
   ]
  },
  {
   "cell_type": "code",
   "execution_count": null,
   "metadata": {},
   "outputs": [],
   "source": [
    "#export\n",
    "@add_method(InventorySdk)\n",
    "def branchQuery(self, brcode:str, cprcodes:List[int]=[])->pd.DataFrame:\n",
    "  lambda_: Lambda =self.lambdaClient\n",
    "  payload = Event.getInput({\n",
    "    'brcode': brcode,\n",
    "    'cprcodes': [int(i) for i in cprcodes],\n",
    "    'format' : 'feather'\n",
    "  })\n",
    "  rawReturn = lambda_.invoke(functionName=self.endpoint.queryBranch(), input = payload)\n",
    "  if rawReturn.get('errorMessage'):\n",
    "    raise Exception(rawReturn)\n",
    "  parsedReturn = Response.parseBody(rawReturn)\n",
    "  return pd.read_feather(parsedReturn['url'])\n",
    "  "
   ]
  },
  {
   "cell_type": "code",
   "execution_count": null,
   "metadata": {},
   "outputs": [
    {
     "data": {
      "text/html": [
       "<div>\n",
       "<style scoped>\n",
       "    .dataframe tbody tr th:only-of-type {\n",
       "        vertical-align: middle;\n",
       "    }\n",
       "\n",
       "    .dataframe tbody tr th {\n",
       "        vertical-align: top;\n",
       "    }\n",
       "\n",
       "    .dataframe thead th {\n",
       "        text-align: right;\n",
       "    }\n",
       "</style>\n",
       "<table border=\"1\" class=\"dataframe\">\n",
       "  <thead>\n",
       "    <tr style=\"text-align: right;\">\n",
       "      <th></th>\n",
       "      <th>iprcode</th>\n",
       "      <th>brcode</th>\n",
       "      <th>ib_cf_qty</th>\n",
       "      <th>new_ib_vs_stock_cv</th>\n",
       "    </tr>\n",
       "  </thead>\n",
       "  <tbody>\n",
       "    <tr>\n",
       "      <th>0</th>\n",
       "      <td>4</td>\n",
       "      <td>1000</td>\n",
       "      <td>35</td>\n",
       "      <td>33</td>\n",
       "    </tr>\n",
       "    <tr>\n",
       "      <th>1</th>\n",
       "      <td>9</td>\n",
       "      <td>1000</td>\n",
       "      <td>95</td>\n",
       "      <td>95</td>\n",
       "    </tr>\n",
       "    <tr>\n",
       "      <th>2</th>\n",
       "      <td>12</td>\n",
       "      <td>1000</td>\n",
       "      <td>36</td>\n",
       "      <td>36</td>\n",
       "    </tr>\n",
       "    <tr>\n",
       "      <th>3</th>\n",
       "      <td>26</td>\n",
       "      <td>1000</td>\n",
       "      <td>28</td>\n",
       "      <td>28</td>\n",
       "    </tr>\n",
       "    <tr>\n",
       "      <th>4</th>\n",
       "      <td>28</td>\n",
       "      <td>1000</td>\n",
       "      <td>9</td>\n",
       "      <td>9</td>\n",
       "    </tr>\n",
       "    <tr>\n",
       "      <th>...</th>\n",
       "      <td>...</td>\n",
       "      <td>...</td>\n",
       "      <td>...</td>\n",
       "      <td>...</td>\n",
       "    </tr>\n",
       "    <tr>\n",
       "      <th>81546</th>\n",
       "      <td>244801</td>\n",
       "      <td>1000</td>\n",
       "      <td>0</td>\n",
       "      <td>0</td>\n",
       "    </tr>\n",
       "    <tr>\n",
       "      <th>81547</th>\n",
       "      <td>244814</td>\n",
       "      <td>1000</td>\n",
       "      <td>0</td>\n",
       "      <td>0</td>\n",
       "    </tr>\n",
       "    <tr>\n",
       "      <th>81548</th>\n",
       "      <td>244816</td>\n",
       "      <td>1000</td>\n",
       "      <td>0</td>\n",
       "      <td>0</td>\n",
       "    </tr>\n",
       "    <tr>\n",
       "      <th>81549</th>\n",
       "      <td>244817</td>\n",
       "      <td>1000</td>\n",
       "      <td>0</td>\n",
       "      <td>0</td>\n",
       "    </tr>\n",
       "    <tr>\n",
       "      <th>81550</th>\n",
       "      <td>244818</td>\n",
       "      <td>1000</td>\n",
       "      <td>0</td>\n",
       "      <td>0</td>\n",
       "    </tr>\n",
       "  </tbody>\n",
       "</table>\n",
       "<p>81551 rows × 4 columns</p>\n",
       "</div>"
      ],
      "text/plain": [
       "       iprcode  brcode  ib_cf_qty  new_ib_vs_stock_cv\n",
       "0            4    1000         35                  33\n",
       "1            9    1000         95                  95\n",
       "2           12    1000         36                  36\n",
       "3           26    1000         28                  28\n",
       "4           28    1000          9                   9\n",
       "...        ...     ...        ...                 ...\n",
       "81546   244801    1000          0                   0\n",
       "81547   244814    1000          0                   0\n",
       "81548   244816    1000          0                   0\n",
       "81549   244817    1000          0                   0\n",
       "81550   244818    1000          0                   0\n",
       "\n",
       "[81551 rows x 4 columns]"
      ]
     },
     "execution_count": null,
     "metadata": {},
     "output_type": "execute_result"
    }
   ],
   "source": [
    "sdk.branchQuery('1000', [47])"
   ]
  },
  {
   "cell_type": "markdown",
   "metadata": {},
   "source": [
    "## Query All"
   ]
  },
  {
   "cell_type": "code",
   "execution_count": null,
   "metadata": {},
   "outputs": [],
   "source": [
    "#export\n",
    "@add_method(InventorySdk)\n",
    "def queryAll2(self, format_ = 'feather'):\n",
    "  functionName = self.endpoint.queryAll2()\n",
    "  r =  self.lambdaClient.invoke(\n",
    "      functionName = functionName, input = Event.getInput({'format': format_ } ))\n",
    "  if r['statusCode'] > 300 :\n",
    "    raise Exception(f'error getting database url {r}')\n",
    "  body = Response.parseBody(r)\n",
    "  url = body['url']\n",
    "  print('succesfully get url, returning pandas')\n",
    "  if format_ == 'feather':\n",
    "    return pd.read_feather(url).astype(int)\n",
    "  return pd.read_json(url, orient='split', dtype= int)\n",
    "  "
   ]
  },
  {
   "cell_type": "code",
   "execution_count": null,
   "metadata": {},
   "outputs": [
    {
     "name": "stdout",
     "output_type": "stream",
     "text": [
      "succesfully get url, returning pandas\n",
      "CPU times: user 77.5 ms, sys: 13 ms, total: 90.5 ms\n",
      "Wall time: 652 ms\n"
     ]
    },
    {
     "data": {
      "text/html": [
       "<div>\n",
       "<style scoped>\n",
       "    .dataframe tbody tr th:only-of-type {\n",
       "        vertical-align: middle;\n",
       "    }\n",
       "\n",
       "    .dataframe tbody tr th {\n",
       "        vertical-align: top;\n",
       "    }\n",
       "\n",
       "    .dataframe thead th {\n",
       "        text-align: right;\n",
       "    }\n",
       "</style>\n",
       "<table border=\"1\" class=\"dataframe\">\n",
       "  <thead>\n",
       "    <tr style=\"text-align: right;\">\n",
       "      <th></th>\n",
       "      <th>iprcode</th>\n",
       "      <th>brcode</th>\n",
       "      <th>ib_cf_qty</th>\n",
       "      <th>new_ib_vs_stock_cv</th>\n",
       "    </tr>\n",
       "  </thead>\n",
       "  <tbody>\n",
       "    <tr>\n",
       "      <th>0</th>\n",
       "      <td>4</td>\n",
       "      <td>1000</td>\n",
       "      <td>35</td>\n",
       "      <td>33</td>\n",
       "    </tr>\n",
       "    <tr>\n",
       "      <th>1</th>\n",
       "      <td>9</td>\n",
       "      <td>1000</td>\n",
       "      <td>95</td>\n",
       "      <td>95</td>\n",
       "    </tr>\n",
       "    <tr>\n",
       "      <th>2</th>\n",
       "      <td>12</td>\n",
       "      <td>1000</td>\n",
       "      <td>36</td>\n",
       "      <td>36</td>\n",
       "    </tr>\n",
       "    <tr>\n",
       "      <th>3</th>\n",
       "      <td>26</td>\n",
       "      <td>1000</td>\n",
       "      <td>28</td>\n",
       "      <td>28</td>\n",
       "    </tr>\n",
       "    <tr>\n",
       "      <th>4</th>\n",
       "      <td>28</td>\n",
       "      <td>1000</td>\n",
       "      <td>9</td>\n",
       "      <td>9</td>\n",
       "    </tr>\n",
       "    <tr>\n",
       "      <th>...</th>\n",
       "      <td>...</td>\n",
       "      <td>...</td>\n",
       "      <td>...</td>\n",
       "      <td>...</td>\n",
       "    </tr>\n",
       "    <tr>\n",
       "      <th>81547</th>\n",
       "      <td>244814</td>\n",
       "      <td>1000</td>\n",
       "      <td>0</td>\n",
       "      <td>0</td>\n",
       "    </tr>\n",
       "    <tr>\n",
       "      <th>81548</th>\n",
       "      <td>244816</td>\n",
       "      <td>1000</td>\n",
       "      <td>0</td>\n",
       "      <td>0</td>\n",
       "    </tr>\n",
       "    <tr>\n",
       "      <th>81549</th>\n",
       "      <td>244817</td>\n",
       "      <td>1000</td>\n",
       "      <td>0</td>\n",
       "      <td>0</td>\n",
       "    </tr>\n",
       "    <tr>\n",
       "      <th>81550</th>\n",
       "      <td>244818</td>\n",
       "      <td>1000</td>\n",
       "      <td>0</td>\n",
       "      <td>0</td>\n",
       "    </tr>\n",
       "    <tr>\n",
       "      <th>81551</th>\n",
       "      <td>3</td>\n",
       "      <td>1003</td>\n",
       "      <td>36</td>\n",
       "      <td>33</td>\n",
       "    </tr>\n",
       "  </tbody>\n",
       "</table>\n",
       "<p>81552 rows × 4 columns</p>\n",
       "</div>"
      ],
      "text/plain": [
       "       iprcode  brcode  ib_cf_qty  new_ib_vs_stock_cv\n",
       "0            4    1000         35                  33\n",
       "1            9    1000         95                  95\n",
       "2           12    1000         36                  36\n",
       "3           26    1000         28                  28\n",
       "4           28    1000          9                   9\n",
       "...        ...     ...        ...                 ...\n",
       "81547   244814    1000          0                   0\n",
       "81548   244816    1000          0                   0\n",
       "81549   244817    1000          0                   0\n",
       "81550   244818    1000          0                   0\n",
       "81551        3    1003         36                  33\n",
       "\n",
       "[81552 rows x 4 columns]"
      ]
     },
     "execution_count": null,
     "metadata": {},
     "output_type": "execute_result"
    }
   ],
   "source": [
    "%%time\n",
    "sdk.queryAll2()"
   ]
  },
  {
   "cell_type": "code",
   "execution_count": null,
   "metadata": {},
   "outputs": [
    {
     "name": "stdout",
     "output_type": "stream",
     "text": [
      "succesfully get url, returning pandas\n",
      "CPU times: user 217 ms, sys: 12.6 ms, total: 230 ms\n",
      "Wall time: 910 ms\n"
     ]
    },
    {
     "data": {
      "text/html": [
       "<div>\n",
       "<style scoped>\n",
       "    .dataframe tbody tr th:only-of-type {\n",
       "        vertical-align: middle;\n",
       "    }\n",
       "\n",
       "    .dataframe tbody tr th {\n",
       "        vertical-align: top;\n",
       "    }\n",
       "\n",
       "    .dataframe thead th {\n",
       "        text-align: right;\n",
       "    }\n",
       "</style>\n",
       "<table border=\"1\" class=\"dataframe\">\n",
       "  <thead>\n",
       "    <tr style=\"text-align: right;\">\n",
       "      <th></th>\n",
       "      <th>iprcode</th>\n",
       "      <th>brcode</th>\n",
       "      <th>ib_cf_qty</th>\n",
       "      <th>new_ib_vs_stock_cv</th>\n",
       "    </tr>\n",
       "  </thead>\n",
       "  <tbody>\n",
       "    <tr>\n",
       "      <th>0</th>\n",
       "      <td>4</td>\n",
       "      <td>1000</td>\n",
       "      <td>35</td>\n",
       "      <td>33</td>\n",
       "    </tr>\n",
       "    <tr>\n",
       "      <th>1</th>\n",
       "      <td>9</td>\n",
       "      <td>1000</td>\n",
       "      <td>95</td>\n",
       "      <td>95</td>\n",
       "    </tr>\n",
       "    <tr>\n",
       "      <th>2</th>\n",
       "      <td>12</td>\n",
       "      <td>1000</td>\n",
       "      <td>36</td>\n",
       "      <td>36</td>\n",
       "    </tr>\n",
       "    <tr>\n",
       "      <th>3</th>\n",
       "      <td>26</td>\n",
       "      <td>1000</td>\n",
       "      <td>28</td>\n",
       "      <td>28</td>\n",
       "    </tr>\n",
       "    <tr>\n",
       "      <th>4</th>\n",
       "      <td>28</td>\n",
       "      <td>1000</td>\n",
       "      <td>9</td>\n",
       "      <td>9</td>\n",
       "    </tr>\n",
       "    <tr>\n",
       "      <th>...</th>\n",
       "      <td>...</td>\n",
       "      <td>...</td>\n",
       "      <td>...</td>\n",
       "      <td>...</td>\n",
       "    </tr>\n",
       "    <tr>\n",
       "      <th>81547</th>\n",
       "      <td>244814</td>\n",
       "      <td>1000</td>\n",
       "      <td>0</td>\n",
       "      <td>0</td>\n",
       "    </tr>\n",
       "    <tr>\n",
       "      <th>81548</th>\n",
       "      <td>244816</td>\n",
       "      <td>1000</td>\n",
       "      <td>0</td>\n",
       "      <td>0</td>\n",
       "    </tr>\n",
       "    <tr>\n",
       "      <th>81549</th>\n",
       "      <td>244817</td>\n",
       "      <td>1000</td>\n",
       "      <td>0</td>\n",
       "      <td>0</td>\n",
       "    </tr>\n",
       "    <tr>\n",
       "      <th>81550</th>\n",
       "      <td>244818</td>\n",
       "      <td>1000</td>\n",
       "      <td>0</td>\n",
       "      <td>0</td>\n",
       "    </tr>\n",
       "    <tr>\n",
       "      <th>81551</th>\n",
       "      <td>3</td>\n",
       "      <td>1003</td>\n",
       "      <td>36</td>\n",
       "      <td>33</td>\n",
       "    </tr>\n",
       "  </tbody>\n",
       "</table>\n",
       "<p>81552 rows × 4 columns</p>\n",
       "</div>"
      ],
      "text/plain": [
       "       iprcode  brcode  ib_cf_qty  new_ib_vs_stock_cv\n",
       "0            4    1000         35                  33\n",
       "1            9    1000         95                  95\n",
       "2           12    1000         36                  36\n",
       "3           26    1000         28                  28\n",
       "4           28    1000          9                   9\n",
       "...        ...     ...        ...                 ...\n",
       "81547   244814    1000          0                   0\n",
       "81548   244816    1000          0                   0\n",
       "81549   244817    1000          0                   0\n",
       "81550   244818    1000          0                   0\n",
       "81551        3    1003         36                  33\n",
       "\n",
       "[81552 rows x 4 columns]"
      ]
     },
     "execution_count": null,
     "metadata": {},
     "output_type": "execute_result"
    }
   ],
   "source": [
    "%%time\n",
    "sdk.queryAll2(format_='json')"
   ]
  },
  {
   "cell_type": "markdown",
   "metadata": {},
   "source": [
    "## Query single product 2"
   ]
  },
  {
   "cell_type": "code",
   "execution_count": null,
   "metadata": {},
   "outputs": [],
   "source": [
    "#export \n",
    "@add_method(InventorySdk)\n",
    "def querySingleProduct2(self, iprcode = '1234'):\n",
    "  res:pd.DataFrame = self.queryAll2()\n",
    "  if res.empty: raise Exception('database not found')\n",
    "  return res[res['iprcode']==int(iprcode)]"
   ]
  },
  {
   "cell_type": "code",
   "execution_count": null,
   "metadata": {},
   "outputs": [
    {
     "name": "stdout",
     "output_type": "stream",
     "text": [
      "succesfully get url, returning pandas\n"
     ]
    },
    {
     "data": {
      "text/html": [
       "<div>\n",
       "<style scoped>\n",
       "    .dataframe tbody tr th:only-of-type {\n",
       "        vertical-align: middle;\n",
       "    }\n",
       "\n",
       "    .dataframe tbody tr th {\n",
       "        vertical-align: top;\n",
       "    }\n",
       "\n",
       "    .dataframe thead th {\n",
       "        text-align: right;\n",
       "    }\n",
       "</style>\n",
       "<table border=\"1\" class=\"dataframe\">\n",
       "  <thead>\n",
       "    <tr style=\"text-align: right;\">\n",
       "      <th></th>\n",
       "      <th>iprcode</th>\n",
       "      <th>brcode</th>\n",
       "      <th>ib_cf_qty</th>\n",
       "      <th>new_ib_vs_stock_cv</th>\n",
       "    </tr>\n",
       "  </thead>\n",
       "  <tbody>\n",
       "    <tr>\n",
       "      <th>81547</th>\n",
       "      <td>244814</td>\n",
       "      <td>1000</td>\n",
       "      <td>0</td>\n",
       "      <td>0</td>\n",
       "    </tr>\n",
       "  </tbody>\n",
       "</table>\n",
       "</div>"
      ],
      "text/plain": [
       "       iprcode  brcode  ib_cf_qty  new_ib_vs_stock_cv\n",
       "81547   244814    1000          0                   0"
      ]
     },
     "execution_count": null,
     "metadata": {},
     "output_type": "execute_result"
    }
   ],
   "source": [
    "sdk.querySingleProduct2(244814)"
   ]
  },
  {
   "cell_type": "markdown",
   "metadata": {},
   "source": [
    "## schema\n",
    "```\n",
    "key:str # key is ib_prcode\n",
    "  ib_cf_qty: int\n",
    "  new_ib_bs_stock_cv: int\n",
    "  lastUpdate: float\n",
    "  ib_brcode: str\n",
    "  ib_prcode: str\n",
    "```"
   ]
  },
  {
   "cell_type": "code",
   "execution_count": null,
   "metadata": {},
   "outputs": [],
   "source": []
  }
 ],
 "metadata": {
  "kernelspec": {
   "display_name": "python38",
   "language": "python",
   "name": "python38"
  }
 },
 "nbformat": 4,
 "nbformat_minor": 4
}
