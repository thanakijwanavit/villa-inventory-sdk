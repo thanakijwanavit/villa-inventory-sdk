{
 "cells": [
  {
   "cell_type": "code",
   "execution_count": null,
   "metadata": {},
   "outputs": [],
   "source": [
    "# default_exp inventory"
   ]
  },
  {
   "cell_type": "code",
   "execution_count": null,
   "metadata": {},
   "outputs": [],
   "source": [
    "#hide\n",
    "# !pip install -q nbdev lambdasdk s3bz"
   ]
  },
  {
   "cell_type": "code",
   "execution_count": null,
   "metadata": {},
   "outputs": [],
   "source": [
    "#hide\n",
    "USER=None\n",
    "PW=None"
   ]
  },
  {
   "cell_type": "markdown",
   "metadata": {},
   "source": [
    "# Inventory\n",
    "\n",
    "> upload and download inventory data from villa master backend"
   ]
  },
  {
   "cell_type": "code",
   "execution_count": null,
   "metadata": {},
   "outputs": [],
   "source": [
    "#hide\n",
    "from nbdev.showdoc import *"
   ]
  },
  {
   "cell_type": "code",
   "execution_count": null,
   "metadata": {},
   "outputs": [],
   "source": [
    "#export\n",
    "from json.decoder import JSONDecodeError\n",
    "from botocore.config import Config\n",
    "from s3bz.s3bz import S3, Requests\n",
    "from lambdasdk.lambdasdk import Lambda\n",
    "from awsSchema.apigateway import Event, Response\n",
    "import pandas as pd\n",
    "from nicHelper.wrappers import add_class_method, add_method\n",
    "from nicHelper.dictUtil import printDict\n",
    "from io import BytesIO\n",
    "from typing import List\n",
    "import bz2, json, boto3, base64, logging, itertools , requests"
   ]
  },
  {
   "cell_type": "code",
   "execution_count": 41,
   "metadata": {},
   "outputs": [],
   "source": [
    "#export\n",
    "def union(*dicts):\n",
    "    return dict(itertools.chain.from_iterable(dct.items() for dct in dicts))\n",
    "class Endpoints:\n",
    "  '''get endpoint names from branch name'''\n",
    "  def __init__(self, branchName='manual-dev'):\n",
    "    self.branchName = branchName\n",
    "  updateWithS3 = lambda self: f'update-inventory-s3-{self.branchName}'\n",
    "  inputS3 = lambda self: f'input-bucket-{self.branchName}'\n",
    "  querySingleProduct = lambda self: f'single-product-query-inventory-{self.branchName}'\n",
    "  queryAll = lambda self: f'query-all-inventory-{self.branchName}'\n",
    "  queryBranch = lambda self: f'query-branch-inventory-{self.branchName}'\n",
    "  queryAll2 = lambda self: f'query-all-inventory2-{self.branchName}'\n",
    "  \n",
    "  \n",
    "class InventorySdk:\n",
    "  ''' interact with villa inventory database '''\n",
    "  def __init__(self, branchName = 'dev', user = None, pw = None, \n",
    "               region = 'ap-southeast-1'):\n",
    "    self.branchName = branchName\n",
    "    self.lambdaClient = Lambda(user =user, pw=pw, region = region)\n",
    "    self.user = user; self.pw = pw; self.region = region\n",
    "    self.endpoint = Endpoints(branchName=branchName)\n",
    "    \n",
    "    \n",
    "  def updateWithS3(self, data:dict, \n",
    "                   key:str = 'allProducts',\n",
    "                   invocationType:str = 'Event'):\n",
    "    \n",
    "    # save to s3\n",
    "    S3.save(key = key, \n",
    "            objectToSave = data , \n",
    "            bucket = self.endpoint.inputS3(),\n",
    "            user=self.user, pw=self.pw)\n",
    "    logging.info(f'saving to s3 completed')\n",
    "    \n",
    "    lambdaPayload = {\n",
    "        'inputBucketName': self.endpoint.inputS3(),\n",
    "        'inputKeyName': key\n",
    "    }\n",
    "    logging.info(f'input to lambda is {lambdaPayload}')\n",
    "    try:\n",
    "      result = self.lambdaClient.invoke(functionName= self.endpoint.updateWithS3() \n",
    "                                        ,input=lambdaPayload,\n",
    "                                        invocationType= invocationType )\n",
    "      if result: return Response.getReturn(result)\n",
    "    except JSONDecodeError:\n",
    "      logging.warning('no return from function')\n",
    "      return True\n",
    "\n",
    "  def querySingleProduct(self, ib_prcode= None, functionName=None, \n",
    "                         user=None, pw=None):\n",
    "    '''query a single product'''\n",
    "    functionName = functionName or self.endpoint.querySingleProduct()\n",
    "    input = { \"body\": json.dumps({'ib_prcode': ib_prcode })}\n",
    "    response =  self.lambdaClient.invoke(\n",
    "        functionName = functionName, input = input )\n",
    "    try:\n",
    "      inventory = json.loads(Response.from_dict(response).body)\n",
    "      return {k:union(v,{'ib_prcode':ib_prcode,'ib_brcode':k}) \\\n",
    "              if k.isdigit() else v for k,v in inventory.items()}\n",
    "    except:\n",
    "      return response\n",
    "\n",
    "  def queryAll(self, functionName = None):\n",
    "    '''get the whole database'''\n",
    "    functionName = functionName or self.endpoint.queryAll()\n",
    "    response =  self.lambdaClient.invoke(\n",
    "        functionName = functionName, input = {} )\n",
    "    responseBody = json.loads(Response.from_dict(response).body)\n",
    "    ### return body\n",
    "    if 'url' in responseBody:\n",
    "      inventory =  Requests.getContentFromUrl(responseBody['url'])\n",
    "      return {k:{k2: union(v2, {'ib_prcode':k,'ib_brcode': k2}) if k2.isdigit() \n",
    "    else v2 for k2,v2 in v.items()} if k.isdigit() else v for k,v in inventory.items()}\n",
    "#       return {k:{k2: union(json.loads(v2), {'ib_prcode':k,'ib_brcode': k2})for k2,v2 in v.items()} for k,v in inventory.items()}\n",
    "    else :\n",
    "      logging.error(responseBody)\n",
    "      return responseBody\n",
    "  \n",
    "  def queryBranch(self, branch = '1000', functionName = None):\n",
    "    '''get the branch database'''\n",
    "    functionName = functionName or self.endpoint.queryBranch()\n",
    "    response =  self.lambdaClient.invoke(\n",
    "        functionName = functionName, input = {'body':json.dumps({'branch':branch})} )\n",
    "    responseBody = json.loads(Response.from_dict(response).body)\n",
    "    ### return body\n",
    "    if 'url' in responseBody:\n",
    "      inventory = Requests.getContentFromUrl(responseBody['url'])\n",
    "      return {k:union(v,{'ib_prcode':k,'ib_brcode':branch}) for k,v in inventory.items()}\n",
    "    else :\n",
    "      logging.error(responseBody)\n",
    "      return responseBody"
   ]
  },
  {
   "cell_type": "code",
   "execution_count": 42,
   "metadata": {},
   "outputs": [],
   "source": [
    "from dataclasses import dataclass\n",
    "from dataclasses_json import dataclass_json\n",
    "from random import randrange\n",
    "from datetime import datetime\n",
    "import boto3\n"
   ]
  },
  {
   "cell_type": "markdown",
   "metadata": {},
   "source": [
    "## generate dummy data for testing"
   ]
  },
  {
   "cell_type": "code",
   "execution_count": 43,
   "metadata": {},
   "outputs": [
    {
     "name": "stdout",
     "output_type": "stream",
     "text": [
      "CPU times: user 5.74 ms, sys: 1.26 ms, total: 7 ms\n",
      "Wall time: 14.3 ms\n"
     ]
    },
    {
     "data": {
      "text/plain": [
       "{'ib_prcode': '54904',\n",
       " 'ib_brcode': '1020',\n",
       " 'ib_cf_qty': '30',\n",
       " 'new_ib_vs_stock_cv': '85'}"
      ]
     },
     "execution_count": 43,
     "metadata": {},
     "output_type": "execute_result"
    }
   ],
   "source": [
    "%%time\n",
    "#Dummy Data\n",
    "numberOfRows = 10\n",
    "@dataclass_json\n",
    "@dataclass\n",
    "class Inventory:\n",
    "  ib_prcode:str\n",
    "  ib_brcode:str\n",
    "  ib_cf_qty:str\n",
    "  new_ib_vs_stock_cv:str\n",
    "\n",
    "sampleLargeRandomInput = [ Inventory.from_dict({\n",
    "    'ib_brcode' : str(randrange(1000,1030,1)),\n",
    "    'ib_prcode' : str(randrange(10000,100000,1)),\n",
    "    'ib_cf_qty' : str(randrange(-10,1000,1)),\n",
    "    'new_ib_vs_stock_cv' : str(randrange(-10,1000,1))\n",
    "  }).to_dict() for _ in range(numberOfRows)]\n",
    "sampleLargeRandomInput[0]"
   ]
  },
  {
   "cell_type": "markdown",
   "metadata": {},
   "source": [
    "## create main object"
   ]
  },
  {
   "cell_type": "code",
   "execution_count": 44,
   "metadata": {},
   "outputs": [],
   "source": [
    "sdk = InventorySdk(user=USER, pw=PW, branchName = 'dev-manual')"
   ]
  },
  {
   "cell_type": "markdown",
   "metadata": {},
   "source": [
    "## Upload the batch data using s3"
   ]
  },
  {
   "cell_type": "markdown",
   "metadata": {},
   "source": [
    "### SampleData"
   ]
  },
  {
   "cell_type": "code",
   "execution_count": 45,
   "metadata": {},
   "outputs": [
    {
     "data": {
      "text/html": [
       "<div>\n",
       "<style scoped>\n",
       "    .dataframe tbody tr th:only-of-type {\n",
       "        vertical-align: middle;\n",
       "    }\n",
       "\n",
       "    .dataframe tbody tr th {\n",
       "        vertical-align: top;\n",
       "    }\n",
       "\n",
       "    .dataframe thead th {\n",
       "        text-align: right;\n",
       "    }\n",
       "</style>\n",
       "<table border=\"1\" class=\"dataframe\">\n",
       "  <thead>\n",
       "    <tr style=\"text-align: right;\">\n",
       "      <th></th>\n",
       "      <th>cprcode</th>\n",
       "      <th>brcode</th>\n",
       "      <th>ib_cf_qty</th>\n",
       "      <th>new_ib_vs_stock_cv</th>\n",
       "    </tr>\n",
       "  </thead>\n",
       "  <tbody>\n",
       "    <tr>\n",
       "      <th>0</th>\n",
       "      <td>0000009</td>\n",
       "      <td>1000</td>\n",
       "      <td>50</td>\n",
       "      <td>27</td>\n",
       "    </tr>\n",
       "    <tr>\n",
       "      <th>1</th>\n",
       "      <td>0000004</td>\n",
       "      <td>1000</td>\n",
       "      <td>35</td>\n",
       "      <td>33</td>\n",
       "    </tr>\n",
       "    <tr>\n",
       "      <th>2</th>\n",
       "      <td>0000003</td>\n",
       "      <td>1003</td>\n",
       "      <td>36</td>\n",
       "      <td>33</td>\n",
       "    </tr>\n",
       "  </tbody>\n",
       "</table>\n",
       "</div>"
      ],
      "text/plain": [
       "   cprcode brcode ib_cf_qty new_ib_vs_stock_cv\n",
       "0  0000009   1000        50                 27\n",
       "1  0000004   1000        35                 33\n",
       "2  0000003   1003        36                 33"
      ]
     },
     "execution_count": 45,
     "metadata": {},
     "output_type": "execute_result"
    }
   ],
   "source": [
    "sampleInput =  [\n",
    "               {\n",
    "                  'cprcode': '0000009',\n",
    "                  'brcode': '1000',\n",
    "                  'ib_cf_qty': '50',\n",
    "                  'new_ib_vs_stock_cv': '27'\n",
    "                },\n",
    "               {\n",
    "                  'cprcode': '0000004',\n",
    "                  'brcode': '1000',\n",
    "                  'ib_cf_qty': '35',\n",
    "                  'new_ib_vs_stock_cv': '33'\n",
    "               },\n",
    "                {\n",
    "                  'cprcode': '0000003',\n",
    "                  'brcode': '1003',\n",
    "                  'ib_cf_qty': '36',\n",
    "                  'new_ib_vs_stock_cv': '33'\n",
    "               }\n",
    "              ]\n",
    "\n",
    "def getDf(input_:dict):\n",
    "  return pd.DataFrame(input_)\n",
    "  \n",
    "df = getDf(sampleInput)\n",
    "df"
   ]
  },
  {
   "cell_type": "markdown",
   "metadata": {},
   "source": [
    "### uploading to s3"
   ]
  },
  {
   "cell_type": "code",
   "execution_count": 47,
   "metadata": {},
   "outputs": [],
   "source": [
    "#export\n",
    "@add_method(InventorySdk)\n",
    "def uploadDf(self, df:pd.DataFrame, key:str ='1000', invApi:str = '2y9nzxkuyk')->bin:\n",
    "  def getPresignedUrl(invApi = invApi, key = key):\n",
    "    url = f'https://{invApi}.execute-api.ap-southeast-1.amazonaws.com/Prod/presign'\n",
    "    r:requests.Response = requests.post(url, json = { \"key\": key } )\n",
    "    return r.json()\n",
    "  def dfToByte(df:pd.DataFrame):\n",
    "    tempIo = BytesIO()\n",
    "    inputByte = df.to_feather(tempIo)\n",
    "    return tempIo.getvalue()\n",
    "  def uploadFile(inputByte:bin, key=key):\n",
    "    presigned = getPresignedUrl(key=key)\n",
    "    print('signed url is ')\n",
    "    printDict(presigned)\n",
    "    files = {'file': (key , BytesIO(inputByte))}\n",
    "    r = requests.post(url = presigned['url'], data = presigned['fields'] , files = files)\n",
    "    return r\n",
    "  \n",
    "  ##### main \n",
    "  inputByte = dfToByte(df)\n",
    "  r = uploadFile(inputByte, key = key)\n",
    "  return r"
   ]
  },
  {
   "cell_type": "code",
   "execution_count": null,
   "metadata": {},
   "outputs": [
    {
     "name": "stdout",
     "output_type": "stream",
     "text": [
      "signed url is \n",
      "url : https://in\n",
      "fields\n",
      " key : 1000\n",
      " AWSAccessKeyId : ASIAVX4Z5T\n",
      " x-amz-security-token : IQoJb3JpZ2\n",
      " policy : eyJleHBpcm\n",
      " signature : aDeTypH/LL\n"
     ]
    },
    {
     "data": {
      "text/plain": [
       "<Response [204]>"
      ]
     },
     "execution_count": null,
     "metadata": {},
     "output_type": "execute_result"
    }
   ],
   "source": [
    "#hide\n",
    "sdk.uploadDf(df, invApi = '2y9nzxkuyk')"
   ]
  },
  {
   "cell_type": "code",
   "execution_count": 50,
   "metadata": {},
   "outputs": [
    {
     "name": "stdout",
     "output_type": "stream",
     "text": [
      "signed url is \n",
      "url : https://in\n",
      "fields\n",
      " key : 1000\n",
      " AWSAccessKeyId : ASIAVX4Z5T\n",
      " x-amz-security-token : IQoJb3JpZ2\n",
      " policy : eyJleHBpcm\n",
      " signature : dI1a0e2mtU\n"
     ]
    },
    {
     "data": {
      "text/plain": [
       "<Response [204]>"
      ]
     },
     "execution_count": 50,
     "metadata": {},
     "output_type": "execute_result"
    }
   ],
   "source": [
    "#hide\n",
    "pd.read_csv('sampleData/inventory.csv',index_col=0).reset_index(drop=True)\n",
    "sdk.uploadDf(df, invApi = '2y9nzxkuyk')"
   ]
  },
  {
   "cell_type": "markdown",
   "metadata": {},
   "source": [
    "### trigger ingestion"
   ]
  },
  {
   "cell_type": "code",
   "execution_count": 51,
   "metadata": {},
   "outputs": [],
   "source": [
    "#export\n",
    "@add_method(InventorySdk)\n",
    "def ingestData(self, functionName= 'trigger-ingestion-dev-manual', key='1000', dtype='feather'):\n",
    "  lambda_:Lambda = self.lambdaClient\n",
    "  result = lambda_.invoke(functionName=functionName, input=Event.getInput({'key':key, 'dtype':dtype}))\n",
    "  return result"
   ]
  },
  {
   "cell_type": "code",
   "execution_count": 52,
   "metadata": {},
   "outputs": [
    {
     "data": {
      "text/plain": [
       "{'body': '{\"cprcode\":{\"0\":\"0000009\",\"1\":\"0000004\",\"2\":\"0000003\"},\"brcode\":{\"0\":\"1000\",\"1\":\"1000\",\"2\":\"1003\"},\"ib_cf_qty\":{\"0\":\"50\",\"1\":\"35\",\"2\":\"36\"},\"new_ib_vs_stock_cv\":{\"0\":\"27\",\"1\":\"33\",\"2\":\"33\"}}',\n",
       " 'statusCode': 200,\n",
       " 'headers': {'Access-Control-Allow-Headers': '*',\n",
       "  'Access-Control-Allow-Origin': '*',\n",
       "  'Access-Control-Allow-Methods': '*'}}"
      ]
     },
     "execution_count": 52,
     "metadata": {},
     "output_type": "execute_result"
    }
   ],
   "source": [
    "sdk.ingestData(key = '1000')"
   ]
  },
  {
   "cell_type": "markdown",
   "metadata": {},
   "source": [
    "### The whole flow"
   ]
  },
  {
   "cell_type": "code",
   "execution_count": 55,
   "metadata": {},
   "outputs": [
    {
     "name": "stdout",
     "output_type": "stream",
     "text": [
      "signed url is \n",
      "url : https://in\n",
      "fields\n",
      " key : test\n",
      " AWSAccessKeyId : ASIAVX4Z5T\n",
      " x-amz-security-token : IQoJb3JpZ2\n",
      " policy : eyJleHBpcm\n",
      " signature : YmbHC9NOOM\n",
      "CPU times: user 32.3 ms, sys: 0 ns, total: 32.3 ms\n",
      "Wall time: 422 ms\n"
     ]
    },
    {
     "data": {
      "text/plain": [
       "{'body': '{\"cprcode\":{\"0\":\"0000009\",\"1\":\"0000004\",\"2\":\"0000003\"},\"brcode\":{\"0\":\"1000\",\"1\":\"1000\",\"2\":\"1003\"},\"ib_cf_qty\":{\"0\":\"50\",\"1\":\"35\",\"2\":\"36\"},\"new_ib_vs_stock_cv\":{\"0\":\"27\",\"1\":\"33\",\"2\":\"33\"}}',\n",
       " 'statusCode': 200,\n",
       " 'headers': {'Access-Control-Allow-Headers': '*',\n",
       "  'Access-Control-Allow-Origin': '*',\n",
       "  'Access-Control-Allow-Methods': '*'}}"
      ]
     },
     "execution_count": 55,
     "metadata": {},
     "output_type": "execute_result"
    }
   ],
   "source": [
    "%%time\n",
    "key = 'test'\n",
    "r = sdk.uploadDf(df, key = key)\n",
    "if r.status_code >= 400: raise Exception(r.json())\n",
    "sdk.ingestData(key = key)"
   ]
  },
  {
   "cell_type": "markdown",
   "metadata": {},
   "source": [
    "## Query a branch"
   ]
  },
  {
   "cell_type": "code",
   "execution_count": null,
   "metadata": {},
   "outputs": [],
   "source": [
    "#export\n",
    "@add_method(InventorySdk)\n",
    "def branchQuery(self, brcode:str, cprcodes:List[int]=[])->pd.DataFrame:\n",
    "  lambda_: Lambda =self.lambdaClient\n",
    "  payload = Event.getInput({\n",
    "    'brcode': brcode,\n",
    "    'cprcodes': [int(i) for i in cprcodes],\n",
    "    'format' : 'feather'\n",
    "  })\n",
    "  rawReturn = lambda_.invoke(functionName=self.endpoint.queryBranch(), input = payload)\n",
    "  if rawReturn.get('errorMessage'):\n",
    "    raise Exception(rawReturn)\n",
    "  parsedReturn = Response.parseBody(rawReturn)\n",
    "  return pd.read_feather(parsedReturn['url'])\n",
    "  "
   ]
  },
  {
   "cell_type": "code",
   "execution_count": null,
   "metadata": {},
   "outputs": [
    {
     "data": {
      "text/html": [
       "<div>\n",
       "<style scoped>\n",
       "    .dataframe tbody tr th:only-of-type {\n",
       "        vertical-align: middle;\n",
       "    }\n",
       "\n",
       "    .dataframe tbody tr th {\n",
       "        vertical-align: top;\n",
       "    }\n",
       "\n",
       "    .dataframe thead th {\n",
       "        text-align: right;\n",
       "    }\n",
       "</style>\n",
       "<table border=\"1\" class=\"dataframe\">\n",
       "  <thead>\n",
       "    <tr style=\"text-align: right;\">\n",
       "      <th></th>\n",
       "      <th>cprcode</th>\n",
       "      <th>brcode</th>\n",
       "      <th>ib_cf_qty</th>\n",
       "      <th>new_ib_vs_stock_cv</th>\n",
       "    </tr>\n",
       "  </thead>\n",
       "  <tbody>\n",
       "    <tr>\n",
       "      <th>0</th>\n",
       "      <td>47</td>\n",
       "      <td>1000</td>\n",
       "      <td>10</td>\n",
       "      <td>10</td>\n",
       "    </tr>\n",
       "  </tbody>\n",
       "</table>\n",
       "</div>"
      ],
      "text/plain": [
       "   cprcode  brcode  ib_cf_qty  new_ib_vs_stock_cv\n",
       "0       47    1000         10                  10"
      ]
     },
     "execution_count": null,
     "metadata": {},
     "output_type": "execute_result"
    }
   ],
   "source": [
    "sdk.branchQuery('1000', ['0000047'])"
   ]
  },
  {
   "cell_type": "markdown",
   "metadata": {},
   "source": [
    "## Query All"
   ]
  },
  {
   "cell_type": "code",
   "execution_count": null,
   "metadata": {},
   "outputs": [],
   "source": [
    "#export\n",
    "@add_method(InventorySdk)\n",
    "def queryAll2(self, format_ = 'feather'):\n",
    "  functionName = self.endpoint.queryAll2()\n",
    "  r =  self.lambdaClient.invoke(\n",
    "      functionName = functionName, input = Event.getInput({'format': format_ } ))\n",
    "  if r['statusCode'] > 300 :\n",
    "    raise Exception(f'error getting database url {r}')\n",
    "  body = Response.parseBody(r)\n",
    "  url = body['url']\n",
    "  print('succesfully get url, returning pandas')\n",
    "  if format_ == 'feather':\n",
    "    return pd.read_feather(url)\n",
    "  return pd.read_json(url, orient='split', dtype= 'str')\n",
    "  "
   ]
  },
  {
   "cell_type": "code",
   "execution_count": null,
   "metadata": {},
   "outputs": [
    {
     "name": "stdout",
     "output_type": "stream",
     "text": [
      "succesfully get url, returning pandas\n",
      "CPU times: user 16.1 ms, sys: 6 µs, total: 16.2 ms\n",
      "Wall time: 247 ms\n"
     ]
    },
    {
     "data": {
      "text/html": [
       "<div>\n",
       "<style scoped>\n",
       "    .dataframe tbody tr th:only-of-type {\n",
       "        vertical-align: middle;\n",
       "    }\n",
       "\n",
       "    .dataframe tbody tr th {\n",
       "        vertical-align: top;\n",
       "    }\n",
       "\n",
       "    .dataframe thead th {\n",
       "        text-align: right;\n",
       "    }\n",
       "</style>\n",
       "<table border=\"1\" class=\"dataframe\">\n",
       "  <thead>\n",
       "    <tr style=\"text-align: right;\">\n",
       "      <th></th>\n",
       "      <th>cprcode</th>\n",
       "      <th>brcode</th>\n",
       "      <th>ib_cf_qty</th>\n",
       "      <th>new_ib_vs_stock_cv</th>\n",
       "    </tr>\n",
       "  </thead>\n",
       "  <tbody>\n",
       "    <tr>\n",
       "      <th>0</th>\n",
       "      <td>1234</td>\n",
       "      <td>test</td>\n",
       "      <td>123</td>\n",
       "      <td>123</td>\n",
       "    </tr>\n",
       "    <tr>\n",
       "      <th>1</th>\n",
       "      <td>12345</td>\n",
       "      <td>test</td>\n",
       "      <td>345</td>\n",
       "      <td>345</td>\n",
       "    </tr>\n",
       "    <tr>\n",
       "      <th>2</th>\n",
       "      <td>0000004</td>\n",
       "      <td>1000</td>\n",
       "      <td>35</td>\n",
       "      <td>33</td>\n",
       "    </tr>\n",
       "    <tr>\n",
       "      <th>3</th>\n",
       "      <td>0000009</td>\n",
       "      <td>1000</td>\n",
       "      <td>39</td>\n",
       "      <td>39</td>\n",
       "    </tr>\n",
       "    <tr>\n",
       "      <th>4</th>\n",
       "      <td>0000012</td>\n",
       "      <td>1000</td>\n",
       "      <td>39</td>\n",
       "      <td>39</td>\n",
       "    </tr>\n",
       "    <tr>\n",
       "      <th>5</th>\n",
       "      <td>0000026</td>\n",
       "      <td>1000</td>\n",
       "      <td>9</td>\n",
       "      <td>9</td>\n",
       "    </tr>\n",
       "    <tr>\n",
       "      <th>6</th>\n",
       "      <td>0000028</td>\n",
       "      <td>1000</td>\n",
       "      <td>13</td>\n",
       "      <td>13</td>\n",
       "    </tr>\n",
       "    <tr>\n",
       "      <th>7</th>\n",
       "      <td>0000033</td>\n",
       "      <td>1000</td>\n",
       "      <td>7</td>\n",
       "      <td>7</td>\n",
       "    </tr>\n",
       "    <tr>\n",
       "      <th>8</th>\n",
       "      <td>0000036</td>\n",
       "      <td>1000</td>\n",
       "      <td>22</td>\n",
       "      <td>22</td>\n",
       "    </tr>\n",
       "    <tr>\n",
       "      <th>9</th>\n",
       "      <td>0000038</td>\n",
       "      <td>1000</td>\n",
       "      <td>143</td>\n",
       "      <td>143</td>\n",
       "    </tr>\n",
       "    <tr>\n",
       "      <th>10</th>\n",
       "      <td>0000040</td>\n",
       "      <td>1000</td>\n",
       "      <td>55</td>\n",
       "      <td>55</td>\n",
       "    </tr>\n",
       "    <tr>\n",
       "      <th>11</th>\n",
       "      <td>0000047</td>\n",
       "      <td>1000</td>\n",
       "      <td>12</td>\n",
       "      <td>12</td>\n",
       "    </tr>\n",
       "    <tr>\n",
       "      <th>12</th>\n",
       "      <td>0000048</td>\n",
       "      <td>1000</td>\n",
       "      <td>21</td>\n",
       "      <td>21</td>\n",
       "    </tr>\n",
       "    <tr>\n",
       "      <th>13</th>\n",
       "      <td>0000003</td>\n",
       "      <td>1003</td>\n",
       "      <td>36</td>\n",
       "      <td>33</td>\n",
       "    </tr>\n",
       "  </tbody>\n",
       "</table>\n",
       "</div>"
      ],
      "text/plain": [
       "    cprcode brcode ib_cf_qty new_ib_vs_stock_cv\n",
       "0      1234   test       123                123\n",
       "1     12345   test       345                345\n",
       "2   0000004   1000        35                 33\n",
       "3   0000009   1000        39                 39\n",
       "4   0000012   1000        39                 39\n",
       "5   0000026   1000         9                  9\n",
       "6   0000028   1000        13                 13\n",
       "7   0000033   1000         7                  7\n",
       "8   0000036   1000        22                 22\n",
       "9   0000038   1000       143                143\n",
       "10  0000040   1000        55                 55\n",
       "11  0000047   1000        12                 12\n",
       "12  0000048   1000        21                 21\n",
       "13  0000003   1003        36                 33"
      ]
     },
     "execution_count": null,
     "metadata": {},
     "output_type": "execute_result"
    }
   ],
   "source": [
    "%%time\n",
    "sdk.queryAll2()"
   ]
  },
  {
   "cell_type": "code",
   "execution_count": null,
   "metadata": {},
   "outputs": [
    {
     "name": "stdout",
     "output_type": "stream",
     "text": [
      "succesfully get url, returning pandas\n",
      "CPU times: user 19.5 ms, sys: 4.54 ms, total: 24.1 ms\n",
      "Wall time: 212 ms\n"
     ]
    },
    {
     "data": {
      "text/html": [
       "<div>\n",
       "<style scoped>\n",
       "    .dataframe tbody tr th:only-of-type {\n",
       "        vertical-align: middle;\n",
       "    }\n",
       "\n",
       "    .dataframe tbody tr th {\n",
       "        vertical-align: top;\n",
       "    }\n",
       "\n",
       "    .dataframe thead th {\n",
       "        text-align: right;\n",
       "    }\n",
       "</style>\n",
       "<table border=\"1\" class=\"dataframe\">\n",
       "  <thead>\n",
       "    <tr style=\"text-align: right;\">\n",
       "      <th></th>\n",
       "      <th>cprcode</th>\n",
       "      <th>brcode</th>\n",
       "      <th>ib_cf_qty</th>\n",
       "      <th>new_ib_vs_stock_cv</th>\n",
       "    </tr>\n",
       "  </thead>\n",
       "  <tbody>\n",
       "    <tr>\n",
       "      <th>0</th>\n",
       "      <td>1234</td>\n",
       "      <td>test</td>\n",
       "      <td>123</td>\n",
       "      <td>123</td>\n",
       "    </tr>\n",
       "    <tr>\n",
       "      <th>1</th>\n",
       "      <td>12345</td>\n",
       "      <td>test</td>\n",
       "      <td>345</td>\n",
       "      <td>345</td>\n",
       "    </tr>\n",
       "    <tr>\n",
       "      <th>2</th>\n",
       "      <td>0000004</td>\n",
       "      <td>1000</td>\n",
       "      <td>35</td>\n",
       "      <td>33</td>\n",
       "    </tr>\n",
       "    <tr>\n",
       "      <th>3</th>\n",
       "      <td>0000009</td>\n",
       "      <td>1000</td>\n",
       "      <td>39</td>\n",
       "      <td>39</td>\n",
       "    </tr>\n",
       "    <tr>\n",
       "      <th>4</th>\n",
       "      <td>0000012</td>\n",
       "      <td>1000</td>\n",
       "      <td>39</td>\n",
       "      <td>39</td>\n",
       "    </tr>\n",
       "    <tr>\n",
       "      <th>5</th>\n",
       "      <td>0000026</td>\n",
       "      <td>1000</td>\n",
       "      <td>9</td>\n",
       "      <td>9</td>\n",
       "    </tr>\n",
       "    <tr>\n",
       "      <th>6</th>\n",
       "      <td>0000028</td>\n",
       "      <td>1000</td>\n",
       "      <td>13</td>\n",
       "      <td>13</td>\n",
       "    </tr>\n",
       "    <tr>\n",
       "      <th>7</th>\n",
       "      <td>0000033</td>\n",
       "      <td>1000</td>\n",
       "      <td>7</td>\n",
       "      <td>7</td>\n",
       "    </tr>\n",
       "    <tr>\n",
       "      <th>8</th>\n",
       "      <td>0000036</td>\n",
       "      <td>1000</td>\n",
       "      <td>22</td>\n",
       "      <td>22</td>\n",
       "    </tr>\n",
       "    <tr>\n",
       "      <th>9</th>\n",
       "      <td>0000038</td>\n",
       "      <td>1000</td>\n",
       "      <td>143</td>\n",
       "      <td>143</td>\n",
       "    </tr>\n",
       "    <tr>\n",
       "      <th>10</th>\n",
       "      <td>0000040</td>\n",
       "      <td>1000</td>\n",
       "      <td>55</td>\n",
       "      <td>55</td>\n",
       "    </tr>\n",
       "    <tr>\n",
       "      <th>11</th>\n",
       "      <td>0000047</td>\n",
       "      <td>1000</td>\n",
       "      <td>12</td>\n",
       "      <td>12</td>\n",
       "    </tr>\n",
       "    <tr>\n",
       "      <th>12</th>\n",
       "      <td>0000048</td>\n",
       "      <td>1000</td>\n",
       "      <td>21</td>\n",
       "      <td>21</td>\n",
       "    </tr>\n",
       "    <tr>\n",
       "      <th>13</th>\n",
       "      <td>0000003</td>\n",
       "      <td>1003</td>\n",
       "      <td>36</td>\n",
       "      <td>33</td>\n",
       "    </tr>\n",
       "  </tbody>\n",
       "</table>\n",
       "</div>"
      ],
      "text/plain": [
       "    cprcode brcode ib_cf_qty new_ib_vs_stock_cv\n",
       "0      1234   test       123                123\n",
       "1     12345   test       345                345\n",
       "2   0000004   1000        35                 33\n",
       "3   0000009   1000        39                 39\n",
       "4   0000012   1000        39                 39\n",
       "5   0000026   1000         9                  9\n",
       "6   0000028   1000        13                 13\n",
       "7   0000033   1000         7                  7\n",
       "8   0000036   1000        22                 22\n",
       "9   0000038   1000       143                143\n",
       "10  0000040   1000        55                 55\n",
       "11  0000047   1000        12                 12\n",
       "12  0000048   1000        21                 21\n",
       "13  0000003   1003        36                 33"
      ]
     },
     "execution_count": null,
     "metadata": {},
     "output_type": "execute_result"
    }
   ],
   "source": [
    "%%time\n",
    "sdk.queryAll2(format_='json')"
   ]
  },
  {
   "cell_type": "code",
   "execution_count": null,
   "metadata": {},
   "outputs": [
    {
     "ename": "ResourceNotFoundException",
     "evalue": "An error occurred (ResourceNotFoundException) when calling the Invoke operation: Function not found: arn:aws:lambda:ap-southeast-1:394922924679:function:query-all-inventory-dev-manual",
     "output_type": "error",
     "traceback": [
      "\u001b[0;31m---------------------------------------------------------------------------\u001b[0m",
      "\u001b[0;31mResourceNotFoundException\u001b[0m                 Traceback (most recent call last)",
      "\u001b[0;32m<timed exec>\u001b[0m in \u001b[0;36m<module>\u001b[0;34m\u001b[0m\n",
      "\u001b[0;32m<ipython-input-6-46e5608fbcb0>\u001b[0m in \u001b[0;36mqueryAll\u001b[0;34m(self, functionName)\u001b[0m\n\u001b[1;32m     66\u001b[0m     \u001b[0;34m'''get the whole database'''\u001b[0m\u001b[0;34m\u001b[0m\u001b[0;34m\u001b[0m\u001b[0m\n\u001b[1;32m     67\u001b[0m     \u001b[0mfunctionName\u001b[0m \u001b[0;34m=\u001b[0m \u001b[0mfunctionName\u001b[0m \u001b[0;32mor\u001b[0m \u001b[0mself\u001b[0m\u001b[0;34m.\u001b[0m\u001b[0mendpoint\u001b[0m\u001b[0;34m.\u001b[0m\u001b[0mqueryAll\u001b[0m\u001b[0;34m(\u001b[0m\u001b[0;34m)\u001b[0m\u001b[0;34m\u001b[0m\u001b[0;34m\u001b[0m\u001b[0m\n\u001b[0;32m---> 68\u001b[0;31m     response =  self.lambdaClient.invoke(\n\u001b[0m\u001b[1;32m     69\u001b[0m         functionName = functionName, input = {} )\n\u001b[1;32m     70\u001b[0m     \u001b[0mresponseBody\u001b[0m \u001b[0;34m=\u001b[0m \u001b[0mjson\u001b[0m\u001b[0;34m.\u001b[0m\u001b[0mloads\u001b[0m\u001b[0;34m(\u001b[0m\u001b[0mResponse\u001b[0m\u001b[0;34m.\u001b[0m\u001b[0mfrom_dict\u001b[0m\u001b[0;34m(\u001b[0m\u001b[0mresponse\u001b[0m\u001b[0;34m)\u001b[0m\u001b[0;34m.\u001b[0m\u001b[0mbody\u001b[0m\u001b[0;34m)\u001b[0m\u001b[0;34m\u001b[0m\u001b[0;34m\u001b[0m\u001b[0m\n",
      "\u001b[0;32m~/SageMaker/.persisted_conda/python38/lib/python3.8/site-packages/lambdasdk/lambdasdk.py\u001b[0m in \u001b[0;36minvoke\u001b[0;34m(self, functionName, input, invocationType)\u001b[0m\n\u001b[1;32m     27\u001b[0m       )\n\u001b[1;32m     28\u001b[0m   \u001b[0;32mdef\u001b[0m \u001b[0minvoke\u001b[0m\u001b[0;34m(\u001b[0m\u001b[0mself\u001b[0m\u001b[0;34m,\u001b[0m \u001b[0mfunctionName\u001b[0m\u001b[0;34m,\u001b[0m \u001b[0minput\u001b[0m\u001b[0;34m,\u001b[0m \u001b[0minvocationType\u001b[0m\u001b[0;34m=\u001b[0m \u001b[0;34m'RequestResponse'\u001b[0m\u001b[0;34m)\u001b[0m\u001b[0;34m:\u001b[0m\u001b[0;34m\u001b[0m\u001b[0;34m\u001b[0m\u001b[0m\n\u001b[0;32m---> 29\u001b[0;31m     response = self.lambdaClient.invoke(\n\u001b[0m\u001b[1;32m     30\u001b[0m       \u001b[0mFunctionName\u001b[0m \u001b[0;34m=\u001b[0m \u001b[0mfunctionName\u001b[0m\u001b[0;34m,\u001b[0m\u001b[0;34m\u001b[0m\u001b[0;34m\u001b[0m\u001b[0m\n\u001b[1;32m     31\u001b[0m       \u001b[0mInvocationType\u001b[0m\u001b[0;34m=\u001b[0m \u001b[0minvocationType\u001b[0m\u001b[0;34m,\u001b[0m\u001b[0;34m\u001b[0m\u001b[0;34m\u001b[0m\u001b[0m\n",
      "\u001b[0;32m~/SageMaker/.persisted_conda/python38/lib/python3.8/site-packages/botocore/client.py\u001b[0m in \u001b[0;36m_api_call\u001b[0;34m(self, *args, **kwargs)\u001b[0m\n\u001b[1;32m    355\u001b[0m                     \"%s() only accepts keyword arguments.\" % py_operation_name)\n\u001b[1;32m    356\u001b[0m             \u001b[0;31m# The \"self\" in this scope is referring to the BaseClient.\u001b[0m\u001b[0;34m\u001b[0m\u001b[0;34m\u001b[0m\u001b[0;34m\u001b[0m\u001b[0m\n\u001b[0;32m--> 357\u001b[0;31m             \u001b[0;32mreturn\u001b[0m \u001b[0mself\u001b[0m\u001b[0;34m.\u001b[0m\u001b[0m_make_api_call\u001b[0m\u001b[0;34m(\u001b[0m\u001b[0moperation_name\u001b[0m\u001b[0;34m,\u001b[0m \u001b[0mkwargs\u001b[0m\u001b[0;34m)\u001b[0m\u001b[0;34m\u001b[0m\u001b[0;34m\u001b[0m\u001b[0m\n\u001b[0m\u001b[1;32m    358\u001b[0m \u001b[0;34m\u001b[0m\u001b[0m\n\u001b[1;32m    359\u001b[0m         \u001b[0m_api_call\u001b[0m\u001b[0;34m.\u001b[0m\u001b[0m__name__\u001b[0m \u001b[0;34m=\u001b[0m \u001b[0mstr\u001b[0m\u001b[0;34m(\u001b[0m\u001b[0mpy_operation_name\u001b[0m\u001b[0;34m)\u001b[0m\u001b[0;34m\u001b[0m\u001b[0;34m\u001b[0m\u001b[0m\n",
      "\u001b[0;32m~/SageMaker/.persisted_conda/python38/lib/python3.8/site-packages/botocore/client.py\u001b[0m in \u001b[0;36m_make_api_call\u001b[0;34m(self, operation_name, api_params)\u001b[0m\n\u001b[1;32m    674\u001b[0m             \u001b[0merror_code\u001b[0m \u001b[0;34m=\u001b[0m \u001b[0mparsed_response\u001b[0m\u001b[0;34m.\u001b[0m\u001b[0mget\u001b[0m\u001b[0;34m(\u001b[0m\u001b[0;34m\"Error\"\u001b[0m\u001b[0;34m,\u001b[0m \u001b[0;34m{\u001b[0m\u001b[0;34m}\u001b[0m\u001b[0;34m)\u001b[0m\u001b[0;34m.\u001b[0m\u001b[0mget\u001b[0m\u001b[0;34m(\u001b[0m\u001b[0;34m\"Code\"\u001b[0m\u001b[0;34m)\u001b[0m\u001b[0;34m\u001b[0m\u001b[0;34m\u001b[0m\u001b[0m\n\u001b[1;32m    675\u001b[0m             \u001b[0merror_class\u001b[0m \u001b[0;34m=\u001b[0m \u001b[0mself\u001b[0m\u001b[0;34m.\u001b[0m\u001b[0mexceptions\u001b[0m\u001b[0;34m.\u001b[0m\u001b[0mfrom_code\u001b[0m\u001b[0;34m(\u001b[0m\u001b[0merror_code\u001b[0m\u001b[0;34m)\u001b[0m\u001b[0;34m\u001b[0m\u001b[0;34m\u001b[0m\u001b[0m\n\u001b[0;32m--> 676\u001b[0;31m             \u001b[0;32mraise\u001b[0m \u001b[0merror_class\u001b[0m\u001b[0;34m(\u001b[0m\u001b[0mparsed_response\u001b[0m\u001b[0;34m,\u001b[0m \u001b[0moperation_name\u001b[0m\u001b[0;34m)\u001b[0m\u001b[0;34m\u001b[0m\u001b[0;34m\u001b[0m\u001b[0m\n\u001b[0m\u001b[1;32m    677\u001b[0m         \u001b[0;32melse\u001b[0m\u001b[0;34m:\u001b[0m\u001b[0;34m\u001b[0m\u001b[0;34m\u001b[0m\u001b[0m\n\u001b[1;32m    678\u001b[0m             \u001b[0;32mreturn\u001b[0m \u001b[0mparsed_response\u001b[0m\u001b[0;34m\u001b[0m\u001b[0;34m\u001b[0m\u001b[0m\n",
      "\u001b[0;31mResourceNotFoundException\u001b[0m: An error occurred (ResourceNotFoundException) when calling the Invoke operation: Function not found: arn:aws:lambda:ap-southeast-1:394922924679:function:query-all-inventory-dev-manual"
     ]
    }
   ],
   "source": [
    "%%time\n",
    "result = sdk.queryAll()\n",
    "list(iter(result.items()))[:2]"
   ]
  },
  {
   "cell_type": "markdown",
   "metadata": {},
   "source": [
    "## Query single product 2"
   ]
  },
  {
   "cell_type": "code",
   "execution_count": null,
   "metadata": {},
   "outputs": [],
   "source": [
    "#export \n",
    "@add_method(InventorySdk)\n",
    "def querySingleProduct2(self, cprcode = '1234'):\n",
    "  res:pd.DataFrame = self.queryAll2()\n",
    "  if res.empty: raise Exception('database not found')\n",
    "  return res[res['cprcode']==cprcode]"
   ]
  },
  {
   "cell_type": "code",
   "execution_count": null,
   "metadata": {},
   "outputs": [
    {
     "name": "stdout",
     "output_type": "stream",
     "text": [
      "succesfully get url, returning pandas\n"
     ]
    },
    {
     "data": {
      "text/html": [
       "<div>\n",
       "<style scoped>\n",
       "    .dataframe tbody tr th:only-of-type {\n",
       "        vertical-align: middle;\n",
       "    }\n",
       "\n",
       "    .dataframe tbody tr th {\n",
       "        vertical-align: top;\n",
       "    }\n",
       "\n",
       "    .dataframe thead th {\n",
       "        text-align: right;\n",
       "    }\n",
       "</style>\n",
       "<table border=\"1\" class=\"dataframe\">\n",
       "  <thead>\n",
       "    <tr style=\"text-align: right;\">\n",
       "      <th></th>\n",
       "      <th>cprcode</th>\n",
       "      <th>brcode</th>\n",
       "      <th>ib_cf_qty</th>\n",
       "      <th>new_ib_vs_stock_cv</th>\n",
       "    </tr>\n",
       "  </thead>\n",
       "  <tbody>\n",
       "    <tr>\n",
       "      <th>0</th>\n",
       "      <td>1234</td>\n",
       "      <td>test</td>\n",
       "      <td>123</td>\n",
       "      <td>123</td>\n",
       "    </tr>\n",
       "  </tbody>\n",
       "</table>\n",
       "</div>"
      ],
      "text/plain": [
       "  cprcode brcode ib_cf_qty new_ib_vs_stock_cv\n",
       "0    1234   test       123                123"
      ]
     },
     "execution_count": null,
     "metadata": {},
     "output_type": "execute_result"
    }
   ],
   "source": [
    "sdk.querySingleProduct2('1234')"
   ]
  },
  {
   "cell_type": "markdown",
   "metadata": {},
   "source": [
    "## schema\n",
    "```\n",
    "key:str # key is ib_prcode\n",
    "  ib_cf_qty: int\n",
    "  new_ib_bs_stock_cv: int\n",
    "  lastUpdate: float\n",
    "  ib_brcode: str\n",
    "  ib_prcode: str\n",
    "```"
   ]
  },
  {
   "cell_type": "code",
   "execution_count": null,
   "metadata": {},
   "outputs": [],
   "source": []
  }
 ],
 "metadata": {
  "kernelspec": {
   "display_name": "python38",
   "language": "python",
   "name": "python38"
  },
  "language_info": {
   "codemirror_mode": {
    "name": "ipython",
    "version": 3
   },
   "file_extension": ".py",
   "mimetype": "text/x-python",
   "name": "python",
   "nbconvert_exporter": "python",
   "pygments_lexer": "ipython3",
   "version": "3.8.6"
  }
 },
 "nbformat": 4,
 "nbformat_minor": 4
}
