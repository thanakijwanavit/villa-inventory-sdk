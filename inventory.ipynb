{
 "cells": [
  {
   "cell_type": "code",
   "execution_count": null,
   "metadata": {},
   "outputs": [],
   "source": [
    "# default_exp inventory"
   ]
  },
  {
   "cell_type": "code",
   "execution_count": null,
   "metadata": {},
   "outputs": [],
   "source": [
    "#hide\n",
    "!pip install -q nbdev lambdasdk s3bz"
   ]
  },
  {
   "cell_type": "code",
   "execution_count": null,
   "metadata": {},
   "outputs": [],
   "source": [
    "#hide\n",
    "import pickle, os\n",
    "KEY = ''\n",
    "PW = ''\n",
    "keypath = '/Users/nic/.villa-product-master-inventory'\n",
    "if KEY and PW:\n",
    "  with open (keypath, 'wb') as f:\n",
    "    pickle.dump({\n",
    "        'KEY': KEY,\n",
    "        'PW': PW\n",
    "    }, f)\n",
    "if os.path.exists(keypath):\n",
    "  with open(keypath, 'rb') as f:\n",
    "    creden = pickle.load(f)\n",
    "else:\n",
    "  creden = {}\n",
    "USER = creden.get('KEY')\n",
    "PW = creden.get('PW')"
   ]
  },
  {
   "cell_type": "markdown",
   "metadata": {},
   "source": [
    "# Inventory\n",
    "\n",
    "> upload and download inventory data from villa master backend"
   ]
  },
  {
   "cell_type": "code",
   "execution_count": null,
   "metadata": {},
   "outputs": [],
   "source": [
    "#hide\n",
    "from nbdev.showdoc import *"
   ]
  },
  {
   "cell_type": "code",
   "execution_count": null,
   "metadata": {},
   "outputs": [],
   "source": [
    "#export\n",
    "from json.decoder import JSONDecodeError\n",
    "from botocore.config import Config\n",
    "from s3bz.s3bz import S3, Requests\n",
    "from lambdasdk.lambdasdk import Lambda\n",
    "from awsSchema.apigateway import Event, Response\n",
    "import bz2, json, boto3, base64, logging,itertools"
   ]
  },
  {
   "cell_type": "code",
   "execution_count": null,
   "metadata": {},
   "outputs": [],
   "source": [
    "#export\n",
    "def union(*dicts):\n",
    "    return dict(itertools.chain.from_iterable(dct.items() for dct in dicts))\n",
    "class Endpoints:\n",
    "  '''get endpoint names from branch name'''\n",
    "  def __init__(self, branchName='manual-dev'):\n",
    "    self.branchName = branchName\n",
    "  updateWithS3 = lambda self: f'update-inventory-s3-{self.branchName}'\n",
    "  inputS3 = lambda self: f'input-bucket-{self.branchName}'\n",
    "  querySingleProduct = lambda self: f'single-product-query-inventory-{self.branchName}'\n",
    "  queryAll = lambda self: f'query-all-inventory-{self.branchName}'\n",
    "  queryBranch = lambda self: f'query-branch-inventory-{self.branchName}'\n",
    "  \n",
    "  \n",
    "class InventorySdk:\n",
    "  ''' interact with villa inventory database '''\n",
    "  def __init__(self, branchName = 'dev', user = None, pw = None, \n",
    "               region = 'ap-southeast-1'):\n",
    "    self.branchName = branchName\n",
    "    self.lambdaClient = Lambda(user =user, pw=pw, region = region)\n",
    "    self.user = user; self.pw = pw; self.region = region\n",
    "    self.endpoint = Endpoints(branchName=branchName)\n",
    "    \n",
    "    \n",
    "  def updateWithS3(self, data:dict, \n",
    "                   key:str = 'allProducts',\n",
    "                   invocationType:str = 'Event'):\n",
    "    \n",
    "    # save to s3\n",
    "    S3.save(key = key, \n",
    "            objectToSave = data , \n",
    "            bucket = self.endpoint.inputS3(),\n",
    "            user=self.user, pw=self.pw)\n",
    "    logging.info(f'saving to s3 completed')\n",
    "    \n",
    "    lambdaPayload = {\n",
    "        'inputBucketName': self.endpoint.inputS3(),\n",
    "        'inputKeyName': key\n",
    "    }\n",
    "    logging.info(f'input to lambda is {lambdaPayload}')\n",
    "    try:\n",
    "      result = self.lambdaClient.invoke(functionName= self.endpoint.updateWithS3() \n",
    "                                        ,input=lambdaPayload,\n",
    "                                        invocationType= invocationType )\n",
    "      if result: return Response.getReturn(result)\n",
    "    except JSONDecodeError:\n",
    "      logging.warning('no return from function')\n",
    "      return True\n",
    "\n",
    "  def querySingleProduct(self, ib_prcode= None, functionName=None, \n",
    "                         user=None, pw=None):\n",
    "    '''query a single product'''\n",
    "    functionName = functionName or self.endpoint.querySingleProduct()\n",
    "    input = { \"body\": json.dumps({'ib_prcode': ib_prcode })}\n",
    "    response =  self.lambdaClient.invoke(\n",
    "        functionName = functionName, input = input )\n",
    "    try:\n",
    "      inventory = json.loads(Response.from_dict(response).body)\n",
    "      return {k:union(v,{'ib_prcode':ib_prcode,'ib_brcode':k}) \\\n",
    "              if k.isdigit() else v for k,v in inventory.items()}\n",
    "    except:\n",
    "      return response\n",
    "\n",
    "  def queryAll(self, functionName = None):\n",
    "    '''get the whole database'''\n",
    "    functionName = functionName or self.endpoint.queryAll()\n",
    "    response =  self.lambdaClient.invoke(\n",
    "        functionName = functionName, input = {} )\n",
    "    responseBody = json.loads(Response.from_dict(response).body)\n",
    "    ### return body\n",
    "    if 'url' in responseBody:\n",
    "      inventory =  Requests.getContentFromUrl(responseBody['url'])\n",
    "      return {k:{k2: union(v2, {'ib_prcode':k,'ib_brcode': k2}) if k2.isdigit() \n",
    "    else v2 for k2,v2 in v.items()} if k.isdigit() else v for k,v in inventory.items()}\n",
    "#       return {k:{k2: union(json.loads(v2), {'ib_prcode':k,'ib_brcode': k2})for k2,v2 in v.items()} for k,v in inventory.items()}\n",
    "    else :\n",
    "      logging.error(responseBody)\n",
    "      return responseBody\n",
    "  \n",
    "  def queryBranch(self, branch = '1000', functionName = None):\n",
    "    '''get the branch database'''\n",
    "    functionName = functionName or self.endpoint.queryBranch()\n",
    "    response =  self.lambdaClient.invoke(\n",
    "        functionName = functionName, input = {'body':json.dumps({'branch':branch})} )\n",
    "    responseBody = json.loads(Response.from_dict(response).body)\n",
    "    ### return body\n",
    "    if 'url' in responseBody:\n",
    "      inventory = Requests.getContentFromUrl(responseBody['url'])\n",
    "      return {k:union(v,{'ib_prcode':k,'ib_brcode':branch}) for k,v in inventory.items()}\n",
    "    else :\n",
    "      logging.error(responseBody)\n",
    "      return responseBody"
   ]
  },
  {
   "cell_type": "code",
   "execution_count": null,
   "metadata": {},
   "outputs": [],
   "source": [
    "from dataclasses import dataclass\n",
    "from dataclasses_json import dataclass_json\n",
    "from random import randrange\n",
    "from datetime import datetime\n",
    "import boto3\n"
   ]
  },
  {
   "cell_type": "markdown",
   "metadata": {},
   "source": [
    "## generate dummy data for testing"
   ]
  },
  {
   "cell_type": "code",
   "execution_count": null,
   "metadata": {},
   "outputs": [
    {
     "name": "stdout",
     "output_type": "stream",
     "text": [
      "CPU times: user 108 ms, sys: 131 µs, total: 108 ms\n",
      "Wall time: 107 ms\n"
     ]
    },
    {
     "data": {
      "text/plain": [
       "{'ib_prcode': '40340',\n",
       " 'ib_brcode': '1012',\n",
       " 'ib_cf_qty': '151',\n",
       " 'new_ib_vs_stock_cv': '603'}"
      ]
     },
     "execution_count": null,
     "metadata": {},
     "output_type": "execute_result"
    }
   ],
   "source": [
    "%%time\n",
    "#Dummy Data\n",
    "numberOfRows = 1000\n",
    "@dataclass_json\n",
    "@dataclass\n",
    "class Inventory:\n",
    "  ib_prcode:str\n",
    "  ib_brcode:str\n",
    "  ib_cf_qty:str\n",
    "  new_ib_vs_stock_cv:str\n",
    "\n",
    "sampleLargeRandomInput = [ Inventory.from_dict({\n",
    "    'ib_brcode' : str(randrange(1000,1030,1)),\n",
    "    'ib_prcode' : str(randrange(10000,100000,1)),\n",
    "    'ib_cf_qty' : str(randrange(-10,1000,1)),\n",
    "    'new_ib_vs_stock_cv' : str(randrange(-10,1000,1))\n",
    "  }).to_dict() for _ in range(numberOfRows)]\n",
    "sampleLargeRandomInput[0]"
   ]
  },
  {
   "cell_type": "markdown",
   "metadata": {},
   "source": [
    "## create main object"
   ]
  },
  {
   "cell_type": "code",
   "execution_count": null,
   "metadata": {},
   "outputs": [],
   "source": [
    "sdk = InventorySdk(user=USER, pw=PW, branchName = 'dev-manual')"
   ]
  },
  {
   "cell_type": "markdown",
   "metadata": {},
   "source": [
    "## Upload the batch data using s3"
   ]
  },
  {
   "cell_type": "code",
   "execution_count": null,
   "metadata": {},
   "outputs": [
    {
     "name": "stdout",
     "output_type": "stream",
     "text": [
      "uploading 1000 items\n",
      "CPU times: user 57.7 ms, sys: 8.71 ms, total: 66.4 ms\n",
      "Wall time: 195 ms\n"
     ]
    },
    {
     "data": {
      "text/plain": [
       "{'body': 'true', 'statusCode': 200, 'header': {}}"
      ]
     },
     "execution_count": null,
     "metadata": {},
     "output_type": "execute_result"
    }
   ],
   "source": [
    "%%time\n",
    "print(f'uploading {len(sampleLargeRandomInput)} items')\n",
    "result = sdk.updateWithS3(\n",
    "    sampleLargeRandomInput,\n",
    "    invocationType = 'Event'\n",
    "  )\n",
    "result"
   ]
  },
  {
   "cell_type": "markdown",
   "metadata": {},
   "source": [
    "## Query Single Product"
   ]
  },
  {
   "cell_type": "code",
   "execution_count": null,
   "metadata": {},
   "outputs": [
    {
     "name": "stdout",
     "output_type": "stream",
     "text": [
      "CPU times: user 14.3 ms, sys: 553 µs, total: 14.9 ms\n",
      "Wall time: 110 ms\n"
     ]
    },
    {
     "data": {
      "text/plain": [
       "{'ib_prcode': '0000002',\n",
       " '1000': {'ib_cf_qty': 35,\n",
       "  'new_ib_bs_stock_cv': 33,\n",
       "  'lastUpdate': 1600567810.529301,\n",
       "  'ib_prcode': '0000002',\n",
       "  'ib_brcode': '1000'},\n",
       " '1001': {'ib_cf_qty': 32,\n",
       "  'new_ib_bs_stock_cv': 30,\n",
       "  'lastUpdate': 1600567810.529316,\n",
       "  'ib_prcode': '0000002',\n",
       "  'ib_brcode': '1001'},\n",
       " '1002': {'ib_cf_qty': 34,\n",
       "  'new_ib_bs_stock_cv': 30,\n",
       "  'lastUpdate': 1600567810.529318,\n",
       "  'ib_prcode': '0000002',\n",
       "  'ib_brcode': '1002'},\n",
       " 'lastUpdate': 1600567810.529318}"
      ]
     },
     "execution_count": null,
     "metadata": {},
     "output_type": "execute_result"
    }
   ],
   "source": [
    "%%time\n",
    "sdk.querySingleProduct('0000002')"
   ]
  },
  {
   "cell_type": "code",
   "execution_count": null,
   "metadata": {},
   "outputs": [
    {
     "name": "stdout",
     "output_type": "stream",
     "text": [
      "CPU times: user 3.49 ms, sys: 303 µs, total: 3.8 ms\n",
      "Wall time: 33.2 ms\n"
     ]
    },
    {
     "data": {
      "text/plain": [
       "{'body': '\"missing product {\\'ib_prcode\\': \\'392070\\'}\"',\n",
       " 'statusCode': 400,\n",
       " 'header': {}}"
      ]
     },
     "execution_count": null,
     "metadata": {},
     "output_type": "execute_result"
    }
   ],
   "source": [
    "%%time\n",
    "sdk.querySingleProduct('392070')"
   ]
  },
  {
   "cell_type": "markdown",
   "metadata": {},
   "source": [
    "## Query a branch"
   ]
  },
  {
   "cell_type": "code",
   "execution_count": null,
   "metadata": {},
   "outputs": [
    {
     "name": "stdout",
     "output_type": "stream",
     "text": [
      "CPU times: user 377 ms, sys: 19 ms, total: 397 ms\n",
      "Wall time: 787 ms\n"
     ]
    },
    {
     "data": {
      "text/plain": [
       "[('0000009',\n",
       "  {'ib_cf_qty': 50,\n",
       "   'new_ib_bs_stock_cv': 27,\n",
       "   'lastUpdate': 1602338504.869655,\n",
       "   'ib_prcode': '0000009',\n",
       "   'ib_brcode': '1000'}),\n",
       " ('0000002',\n",
       "  {'ib_cf_qty': 35,\n",
       "   'new_ib_bs_stock_cv': 33,\n",
       "   'lastUpdate': 1600567810.529301,\n",
       "   'ib_prcode': '0000002',\n",
       "   'ib_brcode': '1000'})]"
      ]
     },
     "execution_count": null,
     "metadata": {},
     "output_type": "execute_result"
    }
   ],
   "source": [
    "%%time\n",
    "result = sdk.queryBranch('1000')\n",
    "#showing the first 2 result\n",
    "list(iter(result.items()))[:2]"
   ]
  },
  {
   "cell_type": "markdown",
   "metadata": {},
   "source": [
    "## Query All"
   ]
  },
  {
   "cell_type": "code",
   "execution_count": null,
   "metadata": {},
   "outputs": [
    {
     "name": "stdout",
     "output_type": "stream",
     "text": [
      "CPU times: user 2.3 s, sys: 87.1 ms, total: 2.39 s\n",
      "Wall time: 2.73 s\n"
     ]
    },
    {
     "data": {
      "text/plain": [
       "[('0000009',\n",
       "  {'ib_prcode': '0000009',\n",
       "   '1000': {'ib_cf_qty': 50,\n",
       "    'new_ib_bs_stock_cv': 27,\n",
       "    'lastUpdate': 1602338504.869655,\n",
       "    'ib_prcode': '0000009',\n",
       "    'ib_brcode': '1000'},\n",
       "   'lastUpdate': 1602338504.869655}),\n",
       " ('0000002',\n",
       "  {'ib_prcode': '0000002',\n",
       "   '1000': {'ib_cf_qty': 35,\n",
       "    'new_ib_bs_stock_cv': 33,\n",
       "    'lastUpdate': 1600567810.529301,\n",
       "    'ib_prcode': '0000002',\n",
       "    'ib_brcode': '1000'},\n",
       "   '1001': {'ib_cf_qty': 32,\n",
       "    'new_ib_bs_stock_cv': 30,\n",
       "    'lastUpdate': 1600567810.529316,\n",
       "    'ib_prcode': '0000002',\n",
       "    'ib_brcode': '1001'},\n",
       "   '1002': {'ib_cf_qty': 34,\n",
       "    'new_ib_bs_stock_cv': 30,\n",
       "    'lastUpdate': 1600567810.529318,\n",
       "    'ib_prcode': '0000002',\n",
       "    'ib_brcode': '1002'},\n",
       "   'lastUpdate': 1600567810.529318})]"
      ]
     },
     "execution_count": null,
     "metadata": {},
     "output_type": "execute_result"
    }
   ],
   "source": [
    "%%time\n",
    "result = sdk.queryAll()\n",
    "list(iter(result.items()))[:2]"
   ]
  },
  {
   "cell_type": "code",
   "execution_count": null,
   "metadata": {},
   "outputs": [
    {
     "name": "stdout",
     "output_type": "stream",
     "text": [
      "Converted index.ipynb.\n",
      "Converted inventory.ipynb.\n"
     ]
    }
   ],
   "source": [
    "#hide\n",
    "from nbdev.export import *\n",
    "notebook2script()"
   ]
  },
  {
   "cell_type": "markdown",
   "metadata": {},
   "source": [
    "## schema\n",
    "```\n",
    "key:str # key is ib_prcode\n",
    "  ib_cf_qty: int\n",
    "  new_ib_bs_stock_cv: int\n",
    "  lastUpdate: float\n",
    "  ib_brcode: str\n",
    "  ib_prcode: str\n",
    "```"
   ]
  },
  {
   "cell_type": "code",
   "execution_count": null,
   "metadata": {},
   "outputs": [],
   "source": []
  }
 ],
 "metadata": {
  "kernelspec": {
   "display_name": "python38",
   "language": "python",
   "name": "python38"
  }
 },
 "nbformat": 4,
 "nbformat_minor": 4
}
